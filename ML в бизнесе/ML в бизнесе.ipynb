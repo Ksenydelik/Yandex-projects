{
 "cells": [
  {
   "cell_type": "markdown",
   "metadata": {},
   "source": [
    "# Описание проекта"
   ]
  },
  {
   "cell_type": "markdown",
   "metadata": {},
   "source": [
    "В моём распоряжении пробы нефти в трёх регионах. Необходимо, с помощью машинного обучения найти наиболее преспективный с точки зрения прибыли регион для бурения новых скважин."
   ]
  },
  {
   "cell_type": "markdown",
   "metadata": {},
   "source": [
    "## Оглавление\n",
    "[1. Загрузка и подготовка данных](#section_1)<br>\n",
    "[2. Обучение и проверка модели](#section_2)<br>\n",
    "[3. Подготовка к расчёту прибыли](#section_3)<br>\n",
    "[4. Расчёт прибыли по выбранным скважинам и предсказаниям модели](#section_4)<br>\n",
    "[5. Расчёт рисков и прибыли для каждого региона](#section_5)<br>"
   ]
  },
  {
   "cell_type": "markdown",
   "metadata": {},
   "source": [
    "<a id='section_1'><h1>1. Загрузка и подготовка данных</h1></a>"
   ]
  },
  {
   "cell_type": "code",
   "execution_count": 1,
   "metadata": {},
   "outputs": [],
   "source": [
    "#Загрузим необходимые библиотеки\n",
    "import pandas as pd\n",
    "import matplotlib.pyplot as plt\n",
    "import numpy as np\n",
    "import seaborn as sns\n",
    "from scipy import stats as st\n",
    "from sklearn.metrics import accuracy_score\n",
    "from sklearn.model_selection import train_test_split\n",
    "from sklearn.linear_model import LinearRegression\n",
    "from sklearn.preprocessing import StandardScaler\n",
    "from sklearn.metrics import f1_score\n",
    "from sklearn.utils import shuffle\n",
    "from sklearn.metrics import confusion_matrix\n",
    "from sklearn.metrics import roc_curve\n",
    "from sklearn.metrics import roc_auc_score\n",
    "from IPython.display import display\n",
    "from sklearn.metrics import mean_squared_error\n",
    "import warnings\n",
    "warnings.filterwarnings('ignore')"
   ]
  },
  {
   "cell_type": "code",
   "execution_count": 2,
   "metadata": {},
   "outputs": [],
   "source": [
    "#Загрузим необходимые DataSet'ы\n",
    "data_0 = pd.read_csv('/datasets/geo_data_0.csv')\n",
    "data_1 = pd.read_csv('/datasets/geo_data_1.csv')\n",
    "data_2 = pd.read_csv('/datasets/geo_data_2.csv')"
   ]
  },
  {
   "cell_type": "code",
   "execution_count": 3,
   "metadata": {},
   "outputs": [
    {
     "name": "stdout",
     "output_type": "stream",
     "text": [
      "<class 'pandas.core.frame.DataFrame'>\n",
      "RangeIndex: 100000 entries, 0 to 99999\n",
      "Data columns (total 5 columns):\n",
      "id         100000 non-null object\n",
      "f0         100000 non-null float64\n",
      "f1         100000 non-null float64\n",
      "f2         100000 non-null float64\n",
      "product    100000 non-null float64\n",
      "dtypes: float64(4), object(1)\n",
      "memory usage: 3.8+ MB\n",
      "None\n",
      "\n",
      "<class 'pandas.core.frame.DataFrame'>\n",
      "RangeIndex: 100000 entries, 0 to 99999\n",
      "Data columns (total 5 columns):\n",
      "id         100000 non-null object\n",
      "f0         100000 non-null float64\n",
      "f1         100000 non-null float64\n",
      "f2         100000 non-null float64\n",
      "product    100000 non-null float64\n",
      "dtypes: float64(4), object(1)\n",
      "memory usage: 3.8+ MB\n",
      "None\n",
      "\n",
      "<class 'pandas.core.frame.DataFrame'>\n",
      "RangeIndex: 100000 entries, 0 to 99999\n",
      "Data columns (total 5 columns):\n",
      "id         100000 non-null object\n",
      "f0         100000 non-null float64\n",
      "f1         100000 non-null float64\n",
      "f2         100000 non-null float64\n",
      "product    100000 non-null float64\n",
      "dtypes: float64(4), object(1)\n",
      "memory usage: 3.8+ MB\n",
      "None\n"
     ]
    }
   ],
   "source": [
    "#Посмотрим информацию по всем датасетам\n",
    "print(data_0.info())\n",
    "print()\n",
    "print(data_1.info())\n",
    "print()\n",
    "print(data_2.info())"
   ]
  },
  {
   "cell_type": "code",
   "execution_count": 4,
   "metadata": {},
   "outputs": [
    {
     "data": {
      "text/html": [
       "<div>\n",
       "<style scoped>\n",
       "    .dataframe tbody tr th:only-of-type {\n",
       "        vertical-align: middle;\n",
       "    }\n",
       "\n",
       "    .dataframe tbody tr th {\n",
       "        vertical-align: top;\n",
       "    }\n",
       "\n",
       "    .dataframe thead th {\n",
       "        text-align: right;\n",
       "    }\n",
       "</style>\n",
       "<table border=\"1\" class=\"dataframe\">\n",
       "  <thead>\n",
       "    <tr style=\"text-align: right;\">\n",
       "      <th></th>\n",
       "      <th>id</th>\n",
       "      <th>f0</th>\n",
       "      <th>f1</th>\n",
       "      <th>f2</th>\n",
       "      <th>product</th>\n",
       "    </tr>\n",
       "  </thead>\n",
       "  <tbody>\n",
       "    <tr>\n",
       "      <td>0</td>\n",
       "      <td>txEyH</td>\n",
       "      <td>0.705745</td>\n",
       "      <td>-0.497823</td>\n",
       "      <td>1.221170</td>\n",
       "      <td>105.280062</td>\n",
       "    </tr>\n",
       "    <tr>\n",
       "      <td>1</td>\n",
       "      <td>2acmU</td>\n",
       "      <td>1.334711</td>\n",
       "      <td>-0.340164</td>\n",
       "      <td>4.365080</td>\n",
       "      <td>73.037750</td>\n",
       "    </tr>\n",
       "    <tr>\n",
       "      <td>2</td>\n",
       "      <td>409Wp</td>\n",
       "      <td>1.022732</td>\n",
       "      <td>0.151990</td>\n",
       "      <td>1.419926</td>\n",
       "      <td>85.265647</td>\n",
       "    </tr>\n",
       "    <tr>\n",
       "      <td>3</td>\n",
       "      <td>iJLyR</td>\n",
       "      <td>-0.032172</td>\n",
       "      <td>0.139033</td>\n",
       "      <td>2.978566</td>\n",
       "      <td>168.620776</td>\n",
       "    </tr>\n",
       "    <tr>\n",
       "      <td>4</td>\n",
       "      <td>Xdl7t</td>\n",
       "      <td>1.988431</td>\n",
       "      <td>0.155413</td>\n",
       "      <td>4.751769</td>\n",
       "      <td>154.036647</td>\n",
       "    </tr>\n",
       "  </tbody>\n",
       "</table>\n",
       "</div>"
      ],
      "text/plain": [
       "      id        f0        f1        f2     product\n",
       "0  txEyH  0.705745 -0.497823  1.221170  105.280062\n",
       "1  2acmU  1.334711 -0.340164  4.365080   73.037750\n",
       "2  409Wp  1.022732  0.151990  1.419926   85.265647\n",
       "3  iJLyR -0.032172  0.139033  2.978566  168.620776\n",
       "4  Xdl7t  1.988431  0.155413  4.751769  154.036647"
      ]
     },
     "execution_count": 4,
     "metadata": {},
     "output_type": "execute_result"
    }
   ],
   "source": [
    "data_0.head()"
   ]
  },
  {
   "cell_type": "code",
   "execution_count": 5,
   "metadata": {},
   "outputs": [
    {
     "data": {
      "text/html": [
       "<div>\n",
       "<style scoped>\n",
       "    .dataframe tbody tr th:only-of-type {\n",
       "        vertical-align: middle;\n",
       "    }\n",
       "\n",
       "    .dataframe tbody tr th {\n",
       "        vertical-align: top;\n",
       "    }\n",
       "\n",
       "    .dataframe thead th {\n",
       "        text-align: right;\n",
       "    }\n",
       "</style>\n",
       "<table border=\"1\" class=\"dataframe\">\n",
       "  <thead>\n",
       "    <tr style=\"text-align: right;\">\n",
       "      <th></th>\n",
       "      <th>id</th>\n",
       "      <th>f0</th>\n",
       "      <th>f1</th>\n",
       "      <th>f2</th>\n",
       "      <th>product</th>\n",
       "    </tr>\n",
       "  </thead>\n",
       "  <tbody>\n",
       "    <tr>\n",
       "      <td>0</td>\n",
       "      <td>kBEdx</td>\n",
       "      <td>-15.001348</td>\n",
       "      <td>-8.276000</td>\n",
       "      <td>-0.005876</td>\n",
       "      <td>3.179103</td>\n",
       "    </tr>\n",
       "    <tr>\n",
       "      <td>1</td>\n",
       "      <td>62mP7</td>\n",
       "      <td>14.272088</td>\n",
       "      <td>-3.475083</td>\n",
       "      <td>0.999183</td>\n",
       "      <td>26.953261</td>\n",
       "    </tr>\n",
       "    <tr>\n",
       "      <td>2</td>\n",
       "      <td>vyE1P</td>\n",
       "      <td>6.263187</td>\n",
       "      <td>-5.948386</td>\n",
       "      <td>5.001160</td>\n",
       "      <td>134.766305</td>\n",
       "    </tr>\n",
       "    <tr>\n",
       "      <td>3</td>\n",
       "      <td>KcrkZ</td>\n",
       "      <td>-13.081196</td>\n",
       "      <td>-11.506057</td>\n",
       "      <td>4.999415</td>\n",
       "      <td>137.945408</td>\n",
       "    </tr>\n",
       "    <tr>\n",
       "      <td>4</td>\n",
       "      <td>AHL4O</td>\n",
       "      <td>12.702195</td>\n",
       "      <td>-8.147433</td>\n",
       "      <td>5.004363</td>\n",
       "      <td>134.766305</td>\n",
       "    </tr>\n",
       "  </tbody>\n",
       "</table>\n",
       "</div>"
      ],
      "text/plain": [
       "      id         f0         f1        f2     product\n",
       "0  kBEdx -15.001348  -8.276000 -0.005876    3.179103\n",
       "1  62mP7  14.272088  -3.475083  0.999183   26.953261\n",
       "2  vyE1P   6.263187  -5.948386  5.001160  134.766305\n",
       "3  KcrkZ -13.081196 -11.506057  4.999415  137.945408\n",
       "4  AHL4O  12.702195  -8.147433  5.004363  134.766305"
      ]
     },
     "execution_count": 5,
     "metadata": {},
     "output_type": "execute_result"
    }
   ],
   "source": [
    "data_1.head()"
   ]
  },
  {
   "cell_type": "code",
   "execution_count": 6,
   "metadata": {},
   "outputs": [
    {
     "data": {
      "text/html": [
       "<div>\n",
       "<style scoped>\n",
       "    .dataframe tbody tr th:only-of-type {\n",
       "        vertical-align: middle;\n",
       "    }\n",
       "\n",
       "    .dataframe tbody tr th {\n",
       "        vertical-align: top;\n",
       "    }\n",
       "\n",
       "    .dataframe thead th {\n",
       "        text-align: right;\n",
       "    }\n",
       "</style>\n",
       "<table border=\"1\" class=\"dataframe\">\n",
       "  <thead>\n",
       "    <tr style=\"text-align: right;\">\n",
       "      <th></th>\n",
       "      <th>id</th>\n",
       "      <th>f0</th>\n",
       "      <th>f1</th>\n",
       "      <th>f2</th>\n",
       "      <th>product</th>\n",
       "    </tr>\n",
       "  </thead>\n",
       "  <tbody>\n",
       "    <tr>\n",
       "      <td>0</td>\n",
       "      <td>fwXo0</td>\n",
       "      <td>-1.146987</td>\n",
       "      <td>0.963328</td>\n",
       "      <td>-0.828965</td>\n",
       "      <td>27.758673</td>\n",
       "    </tr>\n",
       "    <tr>\n",
       "      <td>1</td>\n",
       "      <td>WJtFt</td>\n",
       "      <td>0.262778</td>\n",
       "      <td>0.269839</td>\n",
       "      <td>-2.530187</td>\n",
       "      <td>56.069697</td>\n",
       "    </tr>\n",
       "    <tr>\n",
       "      <td>2</td>\n",
       "      <td>ovLUW</td>\n",
       "      <td>0.194587</td>\n",
       "      <td>0.289035</td>\n",
       "      <td>-5.586433</td>\n",
       "      <td>62.871910</td>\n",
       "    </tr>\n",
       "    <tr>\n",
       "      <td>3</td>\n",
       "      <td>q6cA6</td>\n",
       "      <td>2.236060</td>\n",
       "      <td>-0.553760</td>\n",
       "      <td>0.930038</td>\n",
       "      <td>114.572842</td>\n",
       "    </tr>\n",
       "    <tr>\n",
       "      <td>4</td>\n",
       "      <td>WPMUX</td>\n",
       "      <td>-0.515993</td>\n",
       "      <td>1.716266</td>\n",
       "      <td>5.899011</td>\n",
       "      <td>149.600746</td>\n",
       "    </tr>\n",
       "  </tbody>\n",
       "</table>\n",
       "</div>"
      ],
      "text/plain": [
       "      id        f0        f1        f2     product\n",
       "0  fwXo0 -1.146987  0.963328 -0.828965   27.758673\n",
       "1  WJtFt  0.262778  0.269839 -2.530187   56.069697\n",
       "2  ovLUW  0.194587  0.289035 -5.586433   62.871910\n",
       "3  q6cA6  2.236060 -0.553760  0.930038  114.572842\n",
       "4  WPMUX -0.515993  1.716266  5.899011  149.600746"
      ]
     },
     "execution_count": 6,
     "metadata": {},
     "output_type": "execute_result"
    }
   ],
   "source": [
    "data_2.head()"
   ]
  },
  {
   "cell_type": "markdown",
   "metadata": {},
   "source": [
    "В Датасетах нет пропущенных значений. Типы данных изменять не нужно. Также нет необходимости в масштабировании численных признаков."
   ]
  },
  {
   "cell_type": "code",
   "execution_count": 7,
   "metadata": {},
   "outputs": [
    {
     "name": "stdout",
     "output_type": "stream",
     "text": [
      "0\n",
      "0\n",
      "0\n"
     ]
    }
   ],
   "source": [
    "#Проверим наличие дубликатов в датасетах\n",
    "print(data_0.duplicated().sum())\n",
    "print(data_1.duplicated().sum())\n",
    "print(data_2.duplicated().sum())"
   ]
  },
  {
   "cell_type": "markdown",
   "metadata": {},
   "source": [
    "Полных дубликатов не обнаружено"
   ]
  },
  {
   "cell_type": "code",
   "execution_count": 8,
   "metadata": {},
   "outputs": [
    {
     "data": {
      "text/html": [
       "<style  type=\"text/css\" >\n",
       "    #T_b8e7b648_2c2e_11eb_96f5_02420a392458row0_col0 {\n",
       "            background-color:  #ff00ff;\n",
       "            color:  #f1f1f1;\n",
       "        }    #T_b8e7b648_2c2e_11eb_96f5_02420a392458row0_col1 {\n",
       "            background-color:  #00ffff;\n",
       "            color:  #000000;\n",
       "        }    #T_b8e7b648_2c2e_11eb_96f5_02420a392458row0_col2 {\n",
       "            background-color:  #00ffff;\n",
       "            color:  #000000;\n",
       "        }    #T_b8e7b648_2c2e_11eb_96f5_02420a392458row0_col3 {\n",
       "            background-color:  #48b7ff;\n",
       "            color:  #000000;\n",
       "        }    #T_b8e7b648_2c2e_11eb_96f5_02420a392458row1_col0 {\n",
       "            background-color:  #00ffff;\n",
       "            color:  #000000;\n",
       "        }    #T_b8e7b648_2c2e_11eb_96f5_02420a392458row1_col1 {\n",
       "            background-color:  #ff00ff;\n",
       "            color:  #f1f1f1;\n",
       "        }    #T_b8e7b648_2c2e_11eb_96f5_02420a392458row1_col2 {\n",
       "            background-color:  #01feff;\n",
       "            color:  #000000;\n",
       "        }    #T_b8e7b648_2c2e_11eb_96f5_02420a392458row1_col3 {\n",
       "            background-color:  #00ffff;\n",
       "            color:  #000000;\n",
       "        }    #T_b8e7b648_2c2e_11eb_96f5_02420a392458row2_col0 {\n",
       "            background-color:  #4db2ff;\n",
       "            color:  #000000;\n",
       "        }    #T_b8e7b648_2c2e_11eb_96f5_02420a392458row2_col1 {\n",
       "            background-color:  #4eb1ff;\n",
       "            color:  #000000;\n",
       "        }    #T_b8e7b648_2c2e_11eb_96f5_02420a392458row2_col2 {\n",
       "            background-color:  #ff00ff;\n",
       "            color:  #f1f1f1;\n",
       "        }    #T_b8e7b648_2c2e_11eb_96f5_02420a392458row2_col3 {\n",
       "            background-color:  #916eff;\n",
       "            color:  #000000;\n",
       "        }    #T_b8e7b648_2c2e_11eb_96f5_02420a392458row3_col0 {\n",
       "            background-color:  #6798ff;\n",
       "            color:  #000000;\n",
       "        }    #T_b8e7b648_2c2e_11eb_96f5_02420a392458row3_col1 {\n",
       "            background-color:  #2cd3ff;\n",
       "            color:  #000000;\n",
       "        }    #T_b8e7b648_2c2e_11eb_96f5_02420a392458row3_col2 {\n",
       "            background-color:  #7c83ff;\n",
       "            color:  #000000;\n",
       "        }    #T_b8e7b648_2c2e_11eb_96f5_02420a392458row3_col3 {\n",
       "            background-color:  #ff00ff;\n",
       "            color:  #f1f1f1;\n",
       "        }</style><table id=\"T_b8e7b648_2c2e_11eb_96f5_02420a392458\" ><thead>    <tr>        <th class=\"blank level0\" ></th>        <th class=\"col_heading level0 col0\" >f0</th>        <th class=\"col_heading level0 col1\" >f1</th>        <th class=\"col_heading level0 col2\" >f2</th>        <th class=\"col_heading level0 col3\" >product</th>    </tr></thead><tbody>\n",
       "                <tr>\n",
       "                        <th id=\"T_b8e7b648_2c2e_11eb_96f5_02420a392458level0_row0\" class=\"row_heading level0 row0\" >f0</th>\n",
       "                        <td id=\"T_b8e7b648_2c2e_11eb_96f5_02420a392458row0_col0\" class=\"data row0 col0\" >1</td>\n",
       "                        <td id=\"T_b8e7b648_2c2e_11eb_96f5_02420a392458row0_col1\" class=\"data row0 col1\" >-0.441</td>\n",
       "                        <td id=\"T_b8e7b648_2c2e_11eb_96f5_02420a392458row0_col2\" class=\"data row0 col2\" >-0.00315</td>\n",
       "                        <td id=\"T_b8e7b648_2c2e_11eb_96f5_02420a392458row0_col3\" class=\"data row0 col3\" >0.144</td>\n",
       "            </tr>\n",
       "            <tr>\n",
       "                        <th id=\"T_b8e7b648_2c2e_11eb_96f5_02420a392458level0_row1\" class=\"row_heading level0 row1\" >f1</th>\n",
       "                        <td id=\"T_b8e7b648_2c2e_11eb_96f5_02420a392458row1_col0\" class=\"data row1 col0\" >-0.441</td>\n",
       "                        <td id=\"T_b8e7b648_2c2e_11eb_96f5_02420a392458row1_col1\" class=\"data row1 col1\" >1</td>\n",
       "                        <td id=\"T_b8e7b648_2c2e_11eb_96f5_02420a392458row1_col2\" class=\"data row1 col2\" >0.00172</td>\n",
       "                        <td id=\"T_b8e7b648_2c2e_11eb_96f5_02420a392458row1_col3\" class=\"data row1 col3\" >-0.192</td>\n",
       "            </tr>\n",
       "            <tr>\n",
       "                        <th id=\"T_b8e7b648_2c2e_11eb_96f5_02420a392458level0_row2\" class=\"row_heading level0 row2\" >f2</th>\n",
       "                        <td id=\"T_b8e7b648_2c2e_11eb_96f5_02420a392458row2_col0\" class=\"data row2 col0\" >-0.00315</td>\n",
       "                        <td id=\"T_b8e7b648_2c2e_11eb_96f5_02420a392458row2_col1\" class=\"data row2 col1\" >0.00172</td>\n",
       "                        <td id=\"T_b8e7b648_2c2e_11eb_96f5_02420a392458row2_col2\" class=\"data row2 col2\" >1</td>\n",
       "                        <td id=\"T_b8e7b648_2c2e_11eb_96f5_02420a392458row2_col3\" class=\"data row2 col3\" >0.484</td>\n",
       "            </tr>\n",
       "            <tr>\n",
       "                        <th id=\"T_b8e7b648_2c2e_11eb_96f5_02420a392458level0_row3\" class=\"row_heading level0 row3\" >product</th>\n",
       "                        <td id=\"T_b8e7b648_2c2e_11eb_96f5_02420a392458row3_col0\" class=\"data row3 col0\" >0.144</td>\n",
       "                        <td id=\"T_b8e7b648_2c2e_11eb_96f5_02420a392458row3_col1\" class=\"data row3 col1\" >-0.192</td>\n",
       "                        <td id=\"T_b8e7b648_2c2e_11eb_96f5_02420a392458row3_col2\" class=\"data row3 col2\" >0.484</td>\n",
       "                        <td id=\"T_b8e7b648_2c2e_11eb_96f5_02420a392458row3_col3\" class=\"data row3 col3\" >1</td>\n",
       "            </tr>\n",
       "    </tbody></table>"
      ],
      "text/plain": [
       "<pandas.io.formats.style.Styler at 0x7feff6244b50>"
      ]
     },
     "execution_count": 8,
     "metadata": {},
     "output_type": "execute_result"
    }
   ],
   "source": [
    "#Построимматрицы корреляций для всех датасетов\n",
    "corr_0 = data_0.corr()\n",
    "corr_0.style.background_gradient(cmap='cool').set_precision(3)"
   ]
  },
  {
   "cell_type": "code",
   "execution_count": 9,
   "metadata": {},
   "outputs": [
    {
     "data": {
      "text/html": [
       "<style  type=\"text/css\" >\n",
       "    #T_b8ee12ea_2c2e_11eb_96f5_02420a392458row0_col0 {\n",
       "            background-color:  #ff00ff;\n",
       "            color:  #f1f1f1;\n",
       "        }    #T_b8ee12ea_2c2e_11eb_96f5_02420a392458row0_col1 {\n",
       "            background-color:  #30cfff;\n",
       "            color:  #000000;\n",
       "        }    #T_b8ee12ea_2c2e_11eb_96f5_02420a392458row0_col2 {\n",
       "            background-color:  #00ffff;\n",
       "            color:  #000000;\n",
       "        }    #T_b8ee12ea_2c2e_11eb_96f5_02420a392458row0_col3 {\n",
       "            background-color:  #00ffff;\n",
       "            color:  #000000;\n",
       "        }    #T_b8ee12ea_2c2e_11eb_96f5_02420a392458row1_col0 {\n",
       "            background-color:  #34cbff;\n",
       "            color:  #000000;\n",
       "        }    #T_b8ee12ea_2c2e_11eb_96f5_02420a392458row1_col1 {\n",
       "            background-color:  #ff00ff;\n",
       "            color:  #f1f1f1;\n",
       "        }    #T_b8ee12ea_2c2e_11eb_96f5_02420a392458row1_col2 {\n",
       "            background-color:  #00ffff;\n",
       "            color:  #000000;\n",
       "        }    #T_b8ee12ea_2c2e_11eb_96f5_02420a392458row1_col3 {\n",
       "            background-color:  #05faff;\n",
       "            color:  #000000;\n",
       "        }    #T_b8ee12ea_2c2e_11eb_96f5_02420a392458row2_col0 {\n",
       "            background-color:  #07f8ff;\n",
       "            color:  #000000;\n",
       "        }    #T_b8ee12ea_2c2e_11eb_96f5_02420a392458row2_col1 {\n",
       "            background-color:  #01feff;\n",
       "            color:  #000000;\n",
       "        }    #T_b8ee12ea_2c2e_11eb_96f5_02420a392458row2_col2 {\n",
       "            background-color:  #ff00ff;\n",
       "            color:  #f1f1f1;\n",
       "        }    #T_b8ee12ea_2c2e_11eb_96f5_02420a392458row2_col3 {\n",
       "            background-color:  #ff00ff;\n",
       "            color:  #f1f1f1;\n",
       "        }    #T_b8ee12ea_2c2e_11eb_96f5_02420a392458row3_col0 {\n",
       "            background-color:  #00ffff;\n",
       "            color:  #000000;\n",
       "        }    #T_b8ee12ea_2c2e_11eb_96f5_02420a392458row3_col1 {\n",
       "            background-color:  #00ffff;\n",
       "            color:  #000000;\n",
       "        }    #T_b8ee12ea_2c2e_11eb_96f5_02420a392458row3_col2 {\n",
       "            background-color:  #ff00ff;\n",
       "            color:  #f1f1f1;\n",
       "        }    #T_b8ee12ea_2c2e_11eb_96f5_02420a392458row3_col3 {\n",
       "            background-color:  #ff00ff;\n",
       "            color:  #f1f1f1;\n",
       "        }</style><table id=\"T_b8ee12ea_2c2e_11eb_96f5_02420a392458\" ><thead>    <tr>        <th class=\"blank level0\" ></th>        <th class=\"col_heading level0 col0\" >f0</th>        <th class=\"col_heading level0 col1\" >f1</th>        <th class=\"col_heading level0 col2\" >f2</th>        <th class=\"col_heading level0 col3\" >product</th>    </tr></thead><tbody>\n",
       "                <tr>\n",
       "                        <th id=\"T_b8ee12ea_2c2e_11eb_96f5_02420a392458level0_row0\" class=\"row_heading level0 row0\" >f0</th>\n",
       "                        <td id=\"T_b8ee12ea_2c2e_11eb_96f5_02420a392458row0_col0\" class=\"data row0 col0\" >1</td>\n",
       "                        <td id=\"T_b8ee12ea_2c2e_11eb_96f5_02420a392458row0_col1\" class=\"data row0 col1\" >0.182</td>\n",
       "                        <td id=\"T_b8ee12ea_2c2e_11eb_96f5_02420a392458row0_col2\" class=\"data row0 col2\" >-0.00178</td>\n",
       "                        <td id=\"T_b8ee12ea_2c2e_11eb_96f5_02420a392458row0_col3\" class=\"data row0 col3\" >-0.0305</td>\n",
       "            </tr>\n",
       "            <tr>\n",
       "                        <th id=\"T_b8ee12ea_2c2e_11eb_96f5_02420a392458level0_row1\" class=\"row_heading level0 row1\" >f1</th>\n",
       "                        <td id=\"T_b8ee12ea_2c2e_11eb_96f5_02420a392458row1_col0\" class=\"data row1 col0\" >0.182</td>\n",
       "                        <td id=\"T_b8ee12ea_2c2e_11eb_96f5_02420a392458row1_col1\" class=\"data row1 col1\" >1</td>\n",
       "                        <td id=\"T_b8ee12ea_2c2e_11eb_96f5_02420a392458row1_col2\" class=\"data row1 col2\" >-0.0026</td>\n",
       "                        <td id=\"T_b8ee12ea_2c2e_11eb_96f5_02420a392458row1_col3\" class=\"data row1 col3\" >-0.0102</td>\n",
       "            </tr>\n",
       "            <tr>\n",
       "                        <th id=\"T_b8ee12ea_2c2e_11eb_96f5_02420a392458level0_row2\" class=\"row_heading level0 row2\" >f2</th>\n",
       "                        <td id=\"T_b8ee12ea_2c2e_11eb_96f5_02420a392458row2_col0\" class=\"data row2 col0\" >-0.00178</td>\n",
       "                        <td id=\"T_b8ee12ea_2c2e_11eb_96f5_02420a392458row2_col1\" class=\"data row2 col1\" >-0.0026</td>\n",
       "                        <td id=\"T_b8ee12ea_2c2e_11eb_96f5_02420a392458row2_col2\" class=\"data row2 col2\" >1</td>\n",
       "                        <td id=\"T_b8ee12ea_2c2e_11eb_96f5_02420a392458row2_col3\" class=\"data row2 col3\" >0.999</td>\n",
       "            </tr>\n",
       "            <tr>\n",
       "                        <th id=\"T_b8ee12ea_2c2e_11eb_96f5_02420a392458level0_row3\" class=\"row_heading level0 row3\" >product</th>\n",
       "                        <td id=\"T_b8ee12ea_2c2e_11eb_96f5_02420a392458row3_col0\" class=\"data row3 col0\" >-0.0305</td>\n",
       "                        <td id=\"T_b8ee12ea_2c2e_11eb_96f5_02420a392458row3_col1\" class=\"data row3 col1\" >-0.0102</td>\n",
       "                        <td id=\"T_b8ee12ea_2c2e_11eb_96f5_02420a392458row3_col2\" class=\"data row3 col2\" >0.999</td>\n",
       "                        <td id=\"T_b8ee12ea_2c2e_11eb_96f5_02420a392458row3_col3\" class=\"data row3 col3\" >1</td>\n",
       "            </tr>\n",
       "    </tbody></table>"
      ],
      "text/plain": [
       "<pandas.io.formats.style.Styler at 0x7feff71710d0>"
      ]
     },
     "execution_count": 9,
     "metadata": {},
     "output_type": "execute_result"
    }
   ],
   "source": [
    "corr_1 = data_1.corr()\n",
    "corr_1.style.background_gradient(cmap='cool').set_precision(3)"
   ]
  },
  {
   "cell_type": "code",
   "execution_count": 10,
   "metadata": {},
   "outputs": [
    {
     "data": {
      "text/html": [
       "<style  type=\"text/css\" >\n",
       "    #T_b8f25404_2c2e_11eb_96f5_02420a392458row0_col0 {\n",
       "            background-color:  #ff00ff;\n",
       "            color:  #f1f1f1;\n",
       "        }    #T_b8f25404_2c2e_11eb_96f5_02420a392458row0_col1 {\n",
       "            background-color:  #00ffff;\n",
       "            color:  #000000;\n",
       "        }    #T_b8f25404_2c2e_11eb_96f5_02420a392458row0_col2 {\n",
       "            background-color:  #00ffff;\n",
       "            color:  #000000;\n",
       "        }    #T_b8f25404_2c2e_11eb_96f5_02420a392458row0_col3 {\n",
       "            background-color:  #00ffff;\n",
       "            color:  #000000;\n",
       "        }    #T_b8f25404_2c2e_11eb_96f5_02420a392458row1_col0 {\n",
       "            background-color:  #00ffff;\n",
       "            color:  #000000;\n",
       "        }    #T_b8f25404_2c2e_11eb_96f5_02420a392458row1_col1 {\n",
       "            background-color:  #ff00ff;\n",
       "            color:  #f1f1f1;\n",
       "        }    #T_b8f25404_2c2e_11eb_96f5_02420a392458row1_col2 {\n",
       "            background-color:  #00ffff;\n",
       "            color:  #000000;\n",
       "        }    #T_b8f25404_2c2e_11eb_96f5_02420a392458row1_col3 {\n",
       "            background-color:  #00ffff;\n",
       "            color:  #000000;\n",
       "        }    #T_b8f25404_2c2e_11eb_96f5_02420a392458row2_col0 {\n",
       "            background-color:  #00ffff;\n",
       "            color:  #000000;\n",
       "        }    #T_b8f25404_2c2e_11eb_96f5_02420a392458row2_col1 {\n",
       "            background-color:  #00ffff;\n",
       "            color:  #000000;\n",
       "        }    #T_b8f25404_2c2e_11eb_96f5_02420a392458row2_col2 {\n",
       "            background-color:  #ff00ff;\n",
       "            color:  #f1f1f1;\n",
       "        }    #T_b8f25404_2c2e_11eb_96f5_02420a392458row2_col3 {\n",
       "            background-color:  #728dff;\n",
       "            color:  #000000;\n",
       "        }    #T_b8f25404_2c2e_11eb_96f5_02420a392458row3_col0 {\n",
       "            background-color:  #00ffff;\n",
       "            color:  #000000;\n",
       "        }    #T_b8f25404_2c2e_11eb_96f5_02420a392458row3_col1 {\n",
       "            background-color:  #00ffff;\n",
       "            color:  #000000;\n",
       "        }    #T_b8f25404_2c2e_11eb_96f5_02420a392458row3_col2 {\n",
       "            background-color:  #728dff;\n",
       "            color:  #000000;\n",
       "        }    #T_b8f25404_2c2e_11eb_96f5_02420a392458row3_col3 {\n",
       "            background-color:  #ff00ff;\n",
       "            color:  #f1f1f1;\n",
       "        }</style><table id=\"T_b8f25404_2c2e_11eb_96f5_02420a392458\" ><thead>    <tr>        <th class=\"blank level0\" ></th>        <th class=\"col_heading level0 col0\" >f0</th>        <th class=\"col_heading level0 col1\" >f1</th>        <th class=\"col_heading level0 col2\" >f2</th>        <th class=\"col_heading level0 col3\" >product</th>    </tr></thead><tbody>\n",
       "                <tr>\n",
       "                        <th id=\"T_b8f25404_2c2e_11eb_96f5_02420a392458level0_row0\" class=\"row_heading level0 row0\" >f0</th>\n",
       "                        <td id=\"T_b8f25404_2c2e_11eb_96f5_02420a392458row0_col0\" class=\"data row0 col0\" >1</td>\n",
       "                        <td id=\"T_b8f25404_2c2e_11eb_96f5_02420a392458row0_col1\" class=\"data row0 col1\" >0.000528</td>\n",
       "                        <td id=\"T_b8f25404_2c2e_11eb_96f5_02420a392458row0_col2\" class=\"data row0 col2\" >-0.000448</td>\n",
       "                        <td id=\"T_b8f25404_2c2e_11eb_96f5_02420a392458row0_col3\" class=\"data row0 col3\" >-0.00199</td>\n",
       "            </tr>\n",
       "            <tr>\n",
       "                        <th id=\"T_b8f25404_2c2e_11eb_96f5_02420a392458level0_row1\" class=\"row_heading level0 row1\" >f1</th>\n",
       "                        <td id=\"T_b8f25404_2c2e_11eb_96f5_02420a392458row1_col0\" class=\"data row1 col0\" >0.000528</td>\n",
       "                        <td id=\"T_b8f25404_2c2e_11eb_96f5_02420a392458row1_col1\" class=\"data row1 col1\" >1</td>\n",
       "                        <td id=\"T_b8f25404_2c2e_11eb_96f5_02420a392458row1_col2\" class=\"data row1 col2\" >0.000779</td>\n",
       "                        <td id=\"T_b8f25404_2c2e_11eb_96f5_02420a392458row1_col3\" class=\"data row1 col3\" >-0.00101</td>\n",
       "            </tr>\n",
       "            <tr>\n",
       "                        <th id=\"T_b8f25404_2c2e_11eb_96f5_02420a392458level0_row2\" class=\"row_heading level0 row2\" >f2</th>\n",
       "                        <td id=\"T_b8f25404_2c2e_11eb_96f5_02420a392458row2_col0\" class=\"data row2 col0\" >-0.000448</td>\n",
       "                        <td id=\"T_b8f25404_2c2e_11eb_96f5_02420a392458row2_col1\" class=\"data row2 col1\" >0.000779</td>\n",
       "                        <td id=\"T_b8f25404_2c2e_11eb_96f5_02420a392458row2_col2\" class=\"data row2 col2\" >1</td>\n",
       "                        <td id=\"T_b8f25404_2c2e_11eb_96f5_02420a392458row2_col3\" class=\"data row2 col3\" >0.446</td>\n",
       "            </tr>\n",
       "            <tr>\n",
       "                        <th id=\"T_b8f25404_2c2e_11eb_96f5_02420a392458level0_row3\" class=\"row_heading level0 row3\" >product</th>\n",
       "                        <td id=\"T_b8f25404_2c2e_11eb_96f5_02420a392458row3_col0\" class=\"data row3 col0\" >-0.00199</td>\n",
       "                        <td id=\"T_b8f25404_2c2e_11eb_96f5_02420a392458row3_col1\" class=\"data row3 col1\" >-0.00101</td>\n",
       "                        <td id=\"T_b8f25404_2c2e_11eb_96f5_02420a392458row3_col2\" class=\"data row3 col2\" >0.446</td>\n",
       "                        <td id=\"T_b8f25404_2c2e_11eb_96f5_02420a392458row3_col3\" class=\"data row3 col3\" >1</td>\n",
       "            </tr>\n",
       "    </tbody></table>"
      ],
      "text/plain": [
       "<pandas.io.formats.style.Styler at 0x7feff72c8750>"
      ]
     },
     "execution_count": 10,
     "metadata": {},
     "output_type": "execute_result"
    }
   ],
   "source": [
    "corr_2 = data_2.corr()\n",
    "corr_2.style.background_gradient(cmap='cool').set_precision(3)"
   ]
  },
  {
   "cell_type": "markdown",
   "metadata": {},
   "source": [
    "Мы видим, что во втором датасете есть сильная корреляция между параметром f2 и product. Как я понял, это синтетические данные и удалять этот столбец нет необходимости."
   ]
  },
  {
   "cell_type": "markdown",
   "metadata": {},
   "source": [
    "<a id='section_2'><h1>2. Обучение и проверка модели</h1></a>"
   ]
  },
  {
   "cell_type": "markdown",
   "metadata": {},
   "source": [
    "###### 2.1. Разбитие данных на обучающую и валидационную выборки в соотношении 75:25"
   ]
  },
  {
   "cell_type": "code",
   "execution_count": 11,
   "metadata": {},
   "outputs": [],
   "source": [
    "data_0_train, data_0_valid = train_test_split(data_0, test_size=0.25, random_state=12345)\n",
    "data_1_train, data_1_valid = train_test_split(data_1, test_size=0.25, random_state=12345)\n",
    "data_2_train, data_2_valid = train_test_split(data_2, test_size=0.25, random_state=12345)"
   ]
  },
  {
   "cell_type": "markdown",
   "metadata": {},
   "source": [
    "##### 2.2. Обучение модели и создание предсказаний на валидационной выборке."
   ]
  },
  {
   "cell_type": "code",
   "execution_count": 12,
   "metadata": {},
   "outputs": [],
   "source": [
    "#создадим переменные для фичей и таргета\n",
    "features_0_train = data_0_train.drop(['product', 'id'], axis=1)\n",
    "target_0_train = data_0_train['product']\n",
    "features_0_valid = data_0_valid.drop(['product', 'id'], axis=1)\n",
    "target_0_valid = data_0_valid['product']"
   ]
  },
  {
   "cell_type": "code",
   "execution_count": 13,
   "metadata": {},
   "outputs": [],
   "source": [
    "features_1_train = data_1_train.drop(['product', 'id'], axis=1)\n",
    "target_1_train = data_1_train['product']\n",
    "features_1_valid = data_1_valid.drop(['product', 'id'], axis=1)\n",
    "target_1_valid = data_1_valid['product']"
   ]
  },
  {
   "cell_type": "code",
   "execution_count": 14,
   "metadata": {},
   "outputs": [],
   "source": [
    "features_2_train = data_2_train.drop(['product', 'id'], axis=1)\n",
    "target_2_train = data_2_train['product']\n",
    "features_2_valid = data_2_valid.drop(['product', 'id'], axis=1)\n",
    "target_2_valid = data_2_valid['product']"
   ]
  },
  {
   "cell_type": "code",
   "execution_count": 15,
   "metadata": {},
   "outputs": [],
   "source": [
    "#Обучим первую модель\n",
    "model_0 = LinearRegression(normalize=True)\n",
    "model_0.fit(features_0_train, target_0_train)\n",
    "model_0_prediction = model_0.predict(features_0_valid)\n",
    "RMSE_0 = (mean_squared_error(target_0_valid, model_0_prediction))**0.5"
   ]
  },
  {
   "cell_type": "code",
   "execution_count": 16,
   "metadata": {},
   "outputs": [],
   "source": [
    "#Обучим вторую модель\n",
    "model_1 = LinearRegression(normalize=True)\n",
    "model_1.fit(features_1_train, target_1_train)\n",
    "model_1_prediction = model_1.predict(features_1_valid)\n",
    "RMSE_1 = (mean_squared_error(target_1_valid, model_1_prediction))**0.5"
   ]
  },
  {
   "cell_type": "code",
   "execution_count": 17,
   "metadata": {},
   "outputs": [],
   "source": [
    "#Обучим третью модель\n",
    "model_2 = LinearRegression(normalize=True)\n",
    "model_2.fit(features_2_train, target_2_train)\n",
    "model_2_prediction = model_2.predict(features_2_valid)\n",
    "RMSE_2 = (mean_squared_error(target_2_valid, model_2_prediction))**0.5"
   ]
  },
  {
   "cell_type": "markdown",
   "metadata": {},
   "source": [
    "##### 2.3. Вывод на экран среднего запаса предсказанного сырья и RMSE моделей"
   ]
  },
  {
   "cell_type": "code",
   "execution_count": 18,
   "metadata": {},
   "outputs": [
    {
     "name": "stdout",
     "output_type": "stream",
     "text": [
      "Предсказания модели первого региона: 92.59256778438035\n",
      "RMSE модели первого региона: 37.5794217150813\n",
      "\n",
      "Предсказания модели второго региона: 68.72854689544602\n",
      "RMSE модели второго региона: 0.8930992867756158\n",
      "\n",
      "Предсказания модели третьего региона: 94.96504596800489\n",
      "RMSE модели третьего региона: 40.02970873393434\n"
     ]
    }
   ],
   "source": [
    "print('Предсказания модели первого региона:', model_0_prediction.mean())\n",
    "print('RMSE модели первого региона:', RMSE_0)\n",
    "print()\n",
    "print('Предсказания модели второго региона:', model_1_prediction.mean())\n",
    "print('RMSE модели второго региона:', RMSE_1)\n",
    "print()\n",
    "print('Предсказания модели третьего региона:', model_2_prediction.mean())\n",
    "print('RMSE модели третьего региона:', RMSE_2)"
   ]
  },
  {
   "cell_type": "markdown",
   "metadata": {},
   "source": [
    "##### 2.5. Анализ результатов."
   ]
  },
  {
   "cell_type": "markdown",
   "metadata": {},
   "source": [
    "Мы видим, что лучше всего предсказывает подель второго региона (в коде - 1). Эта модель имеет наименьшую RMSE и соответственно точнее. Остальные модели имеют довольно большую RMSE и, соответсвенно, наибольший разброс в предсказаниях."
   ]
  },
  {
   "cell_type": "markdown",
   "metadata": {},
   "source": [
    "<a id='section_3'><h1>3. Подготовка к расчёту прибыли</h1></a>"
   ]
  },
  {
   "cell_type": "markdown",
   "metadata": {},
   "source": [
    "##### 3.1. Сохранение всех ключевых значений для расчётов в отдельных переменных."
   ]
  },
  {
   "cell_type": "code",
   "execution_count": 19,
   "metadata": {},
   "outputs": [],
   "source": [
    "#Создадим переменные для расчёта прибыли\n",
    "budget = 10000000000 #бюджет, выделенный для разработки\n",
    "unit_income = 450000 #прибыль с единицы товара"
   ]
  },
  {
   "cell_type": "markdown",
   "metadata": {},
   "source": [
    "##### 3.2. Рассчёт достаточного объёма сырья для безубыточной разработки новой скважины. Сравнение полученного объёма сырья со средним запасом в каждом регионе."
   ]
  },
  {
   "cell_type": "code",
   "execution_count": 20,
   "metadata": {},
   "outputs": [
    {
     "name": "stdout",
     "output_type": "stream",
     "text": [
      "Минимальный объём скважины, необходимый для разработки: 111.11\n",
      "Необходимый минималный объём 200 скважин: 22222.22\n"
     ]
    }
   ],
   "source": [
    "sufficient_volume_well = (budget / unit_income) / 200\n",
    "sufficient_volume = (budget / unit_income)\n",
    "print('Минимальный объём скважины, необходимый для разработки:',round(sufficient_volume_well, 2))\n",
    "print('Необходимый минималный объём 200 скважин:', round(sufficient_volume, 2))"
   ]
  },
  {
   "cell_type": "markdown",
   "metadata": {},
   "source": [
    "##### 3.3. Вывод по этапу подготовки расчёта прибыли."
   ]
  },
  {
   "cell_type": "markdown",
   "metadata": {},
   "source": [
    "Мы получили минимальный объём одной скважины для разработки в 111 тысяч баррелей. Средний объём скважин во всеъ трёх регионах меньше необходимого. Это значит, что нам необходимо выбирать скважины с наибольгшим количеством сырья."
   ]
  },
  {
   "cell_type": "markdown",
   "metadata": {},
   "source": [
    "<a id='section_4'><h1>4. Расчёт прибыли по выбранным скважинам и предсказаниям модели</h1></a>"
   ]
  },
  {
   "cell_type": "markdown",
   "metadata": {},
   "source": [
    "###### 4.1. Выбор скважин с макимальными значениями предсказаний"
   ]
  },
  {
   "cell_type": "code",
   "execution_count": 21,
   "metadata": {},
   "outputs": [],
   "source": [
    "#Сбросим индекы целевого признака, для соответствия индексам предсказаний\n",
    "target_0_valid = target_0_valid.reset_index(drop=True)\n",
    "target_1_valid = target_1_valid.reset_index(drop=True)\n",
    "target_2_valid = target_2_valid.reset_index(drop=True)\n",
    "# Изменим тип предсказаний с numpy на Series\n",
    "prediction_0 = pd.Series(model_0_prediction)\n",
    "prediction_1 = pd.Series(model_1_prediction)\n",
    "prediction_2 = pd.Series(model_2_prediction)"
   ]
  },
  {
   "cell_type": "code",
   "execution_count": 22,
   "metadata": {},
   "outputs": [],
   "source": [
    "#Отсортируем предсказанные значения по убыванию\n",
    "pred_sorted_0 = prediction_0.sort_values(ascending=False)\n",
    "pred_sorted_1 = prediction_1.sort_values(ascending=False)\n",
    "pred_sorted_2 = prediction_2.sort_values(ascending=False)"
   ]
  },
  {
   "cell_type": "markdown",
   "metadata": {},
   "source": [
    "##### 4.2. Просуммируем целевое значение объёма сырья, соответствующее этим предсказаниям."
   ]
  },
  {
   "cell_type": "code",
   "execution_count": 23,
   "metadata": {},
   "outputs": [],
   "source": [
    "#Выберем 200 скважин с наибольшим объёмом\n",
    "target_volume_0 = target_0_valid[pred_sorted_0.index][:200].sum()\n",
    "target_volume_1 = target_1_valid[pred_sorted_1.index][:200].sum()\n",
    "target_volume_2 = target_2_valid[pred_sorted_2.index][:200].sum()"
   ]
  },
  {
   "cell_type": "markdown",
   "metadata": {},
   "source": [
    "##### 4.3. Рассчёт прибыли для полученного объёма сырья."
   ]
  },
  {
   "cell_type": "code",
   "execution_count": 24,
   "metadata": {},
   "outputs": [],
   "source": [
    "#Умножим объём полученного сырья на единицу товара\n",
    "target_income_0 = target_volume_0 * unit_income\n",
    "target_income_1 = target_volume_1 * unit_income\n",
    "target_income_2 = target_volume_2 * unit_income"
   ]
  },
  {
   "cell_type": "code",
   "execution_count": 25,
   "metadata": {},
   "outputs": [
    {
     "name": "stdout",
     "output_type": "stream",
     "text": [
      "Целевой объём первой области 29601.84\n",
      "Целевая прибыль первой области 13320826043.14\n",
      "---------------------------------------------------\n",
      "Целевой объём второй области 27589.08\n",
      "Целевая прибыль второй области 12415086696.68\n",
      "---------------------------------------------------\n",
      "Целевой объём третьей области 28245.22\n",
      "Целевая прибыль третьей области 12710349963.6\n"
     ]
    }
   ],
   "source": [
    "print('Целевой объём первой области', round(target_volume_0, 2))\n",
    "print('Целевая прибыль первой области', round(target_income_0, 2))\n",
    "print('---------------------------------------------------')\n",
    "print('Целевой объём второй области', round(target_volume_1, 2))\n",
    "print('Целевая прибыль второй области', round(target_income_1, 2))\n",
    "print('---------------------------------------------------')\n",
    "print('Целевой объём третьей области', round(target_volume_2, 2))\n",
    "print('Целевая прибыль третьей области', round(target_income_2, 2))"
   ]
  },
  {
   "cell_type": "markdown",
   "metadata": {},
   "source": [
    "<a id='section_5'><h1>5. Расчёт рисков и прибыли для каждого региона</h1></a>"
   ]
  },
  {
   "cell_type": "markdown",
   "metadata": {},
   "source": [
    "##### 5.1. Применение техники Bootstrap с 1000 выборок. Нахождение средней прибыли, 95%-го доверительного интервала и риска убытков."
   ]
  },
  {
   "cell_type": "code",
   "execution_count": 32,
   "metadata": {},
   "outputs": [
    {
     "name": "stdout",
     "output_type": "stream",
     "text": [
      "Средняя выручка первого реиона: 425.9385269105923 млн.\n",
      "95%-ый доверительный интервал первого региона: -102.09009483793653 млн. 947.976353358369 млн.\n",
      "Риск убытков первого региона 6.00%\n"
     ]
    }
   ],
   "source": [
    "def revenue(target, predictions, count):\n",
    "    prediction = pd.Series(predictions)\n",
    "    pred_sorted = prediction.sort_values(ascending=False)\n",
    "    selected = target[pred_sorted.index][:count]\n",
    "    return (unit_income * selected.sum()) - budget\n",
    "\n",
    "state = np.random.RandomState(12345)\n",
    "values_0 = []\n",
    "for i in range(1000):\n",
    "    \n",
    "    target_subsample = target_0_valid.sample(n=500, replace=True, random_state=state)\n",
    "    pred_subsample = prediction_0[target_subsample.index]\n",
    "    \n",
    "    values_0.append(revenue(target_subsample, pred_subsample, 200))\n",
    "\n",
    "values_0 = pd.Series(values_0)\n",
    "\n",
    "mean = values_0.mean()\n",
    "print(\"Средняя выручка первого реиона:\", (mean / 1000000), 'млн.')\n",
    "\n",
    "\n",
    "lower = values_0.quantile(0.025) / 1000000\n",
    "upper = values_0.quantile(0.975) / 1000000\n",
    "\n",
    "\n",
    "print(\"95%-ый доверительный интервал первого региона:\", lower, 'млн.', upper, 'млн.')\n",
    "\n",
    "values_0 = values_0\n",
    "values_0 = values_0[values_0 < 0]\n",
    "result = (values_0.count() / 1000) \n",
    "print('Риск убытков первого региона', format(result, '.2%'))"
   ]
  },
  {
   "cell_type": "code",
   "execution_count": 34,
   "metadata": {},
   "outputs": [
    {
     "name": "stdout",
     "output_type": "stream",
     "text": [
      "Средняя выручка второго реиона: 515.22277344329 млн.\n",
      "95%-ый доверительный интервал второго региона: 68.87322537050177 млн. 931.5475912570496 млн.\n",
      "Риск убытков второго региона 1.00%\n"
     ]
    }
   ],
   "source": [
    "state = np.random.RandomState(12345)\n",
    "values_1 = []\n",
    "for i in range(1000):\n",
    "    \n",
    "    target_subsample = target_1_valid.sample(n=500, replace=True, random_state=state)\n",
    "    pred_subsample = prediction_1[target_subsample.index]\n",
    "    \n",
    "    values_1.append(revenue(target_subsample, pred_subsample, 200))\n",
    "\n",
    "values_1 = pd.Series(values_1)\n",
    "\n",
    "mean = values_1.mean()\n",
    "print(\"Средняя выручка второго реиона:\", (mean / 1000000), 'млн.')\n",
    "\n",
    "\n",
    "lower = values_1.quantile(0.025) / 1000000\n",
    "upper = values_1.quantile(0.975) / 1000000\n",
    "\n",
    "\n",
    "print(\"95%-ый доверительный интервал второго региона:\", lower, 'млн.', upper, 'млн.')\n",
    "\n",
    "values_1 = values_1\n",
    "values_1 = values_1[values_1 < 0]\n",
    "result = (values_1.count() / 1000) \n",
    "print('Риск убытков второго региона', format(result, '.2%'))"
   ]
  },
  {
   "cell_type": "code",
   "execution_count": 35,
   "metadata": {},
   "outputs": [
    {
     "name": "stdout",
     "output_type": "stream",
     "text": [
      "Средняя выручка третьего реиона: 435.00836278275557 млн.\n",
      "95%-ый доверительный интервал второго региона: -128.880547329789 млн. 969.706954180268 млн.\n",
      "Риск убытков второго региона 6.40%\n"
     ]
    }
   ],
   "source": [
    "state = np.random.RandomState(12345)\n",
    "values_2 = []\n",
    "for i in range(1000):\n",
    "    \n",
    "    target_subsample = target_2_valid.sample(n=500, replace=True, random_state=state)\n",
    "    pred_subsample = prediction_2[target_subsample.index]\n",
    "    \n",
    "    values_2.append(revenue(target_subsample, pred_subsample, 200))\n",
    "\n",
    "values_2 = pd.Series(values_2)\n",
    "\n",
    "mean = values_2.mean()\n",
    "print(\"Средняя выручка третьего реиона:\", (mean / 1000000), 'млн.')\n",
    "\n",
    "\n",
    "lower = values_2.quantile(0.025) / 1000000\n",
    "upper = values_2.quantile(0.975) / 1000000\n",
    "\n",
    "\n",
    "print(\"95%-ый доверительный интервал третьего региона:\", lower, 'млн.', upper, 'млн.')\n",
    "\n",
    "values_2 = values_2\n",
    "values_2 = values_2[values_2 < 0]\n",
    "result = (values_2.count() / 1000) \n",
    "print('Риск убытков третьего региона', format(result, '.2%'))"
   ]
  },
  {
   "cell_type": "markdown",
   "metadata": {},
   "source": [
    "##### 5.2. Вывод"
   ]
  },
  {
   "cell_type": "markdown",
   "metadata": {},
   "source": [
    "Наиболее перспективной является регион номер два (в коде - 1). Этот регион в среднем принесет больше дохода, а также в данном регионе верятность убытков равна 1%. Остальные регионы имеют в среднем меньший доход, а также вероятность убытков более 6%. "
   ]
  }
 ],
 "metadata": {
  "kernelspec": {
   "display_name": "Python 3",
   "language": "python",
   "name": "python3"
  },
  "language_info": {
   "codemirror_mode": {
    "name": "ipython",
    "version": 3
   },
   "file_extension": ".py",
   "mimetype": "text/x-python",
   "name": "python",
   "nbconvert_exporter": "python",
   "pygments_lexer": "ipython3",
   "version": "3.8.3"
  },
  "toc": {
   "base_numbering": 1,
   "nav_menu": {},
   "number_sections": true,
   "sideBar": true,
   "skip_h1_title": true,
   "title_cell": "Table of Contents",
   "title_sidebar": "Contents",
   "toc_cell": false,
   "toc_position": {},
   "toc_section_display": true,
   "toc_window_display": false
  }
 },
 "nbformat": 4,
 "nbformat_minor": 2
}
