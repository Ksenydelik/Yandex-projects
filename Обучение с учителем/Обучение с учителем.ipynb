{
 "cells": [
  {
   "cell_type": "markdown",
   "metadata": {},
   "source": [
    "# Отток клиентов"
   ]
  },
  {
   "cell_type": "markdown",
   "metadata": {},
   "source": [
    "Из «Бета-Банка» стали уходить клиенты. Каждый месяц. Немного, но заметно. Банковские маркетологи посчитали: сохранять текущих клиентов дешевле, чем привлекать новых.\n",
    "\n",
    "Мне Нужно спрогнозировать, уйдёт клиент из банка в ближайшее время или нет. В моём распоряжении исторические данные о поведении клиентов и расторжении договоров с банком. \n",
    "\n",
    "Необходимо построить модель с предельно большим значением *F1*-меры. \n"
   ]
  },
  {
   "cell_type": "markdown",
   "metadata": {},
   "source": [
    "# 1. Подготовка данных"
   ]
  },
  {
   "cell_type": "markdown",
   "metadata": {},
   "source": [
    "Импортируем необходимые библиотеки"
   ]
  },
  {
   "cell_type": "code",
   "execution_count": 1,
   "metadata": {},
   "outputs": [],
   "source": [
    "import pandas as pd\n",
    "import matplotlib.pyplot as plt\n",
    "import numpy as np\n",
    "import seaborn as sns\n",
    "from scipy import stats as st\n",
    "from statsmodels.stats.outliers_influence import variance_inflation_factor\n",
    "from statsmodels.tools.tools import add_constant\n",
    "from sklearn.tree import DecisionTreeClassifier\n",
    "from sklearn.metrics import accuracy_score\n",
    "from sklearn.model_selection import train_test_split\n",
    "from sklearn.ensemble import RandomForestClassifier\n",
    "from sklearn.linear_model import LogisticRegression\n",
    "from sklearn.dummy import DummyClassifier\n",
    "from sklearn.preprocessing import StandardScaler\n",
    "from sklearn.metrics import f1_score\n",
    "from sklearn.utils import shuffle\n",
    "from sklearn.metrics import confusion_matrix\n",
    "from sklearn.metrics import roc_curve\n",
    "from sklearn.metrics import roc_auc_score\n",
    "from IPython.display import display\n",
    "import warnings\n",
    "warnings.filterwarnings('ignore')\n"
   ]
  },
  {
   "cell_type": "code",
   "execution_count": 2,
   "metadata": {},
   "outputs": [
    {
     "name": "stdout",
     "output_type": "stream",
     "text": [
      "<class 'pandas.core.frame.DataFrame'>\n",
      "RangeIndex: 10000 entries, 0 to 9999\n",
      "Data columns (total 14 columns):\n",
      " #   Column           Non-Null Count  Dtype  \n",
      "---  ------           --------------  -----  \n",
      " 0   RowNumber        10000 non-null  int64  \n",
      " 1   CustomerId       10000 non-null  int64  \n",
      " 2   Surname          10000 non-null  object \n",
      " 3   CreditScore      10000 non-null  int64  \n",
      " 4   Geography        10000 non-null  object \n",
      " 5   Gender           10000 non-null  object \n",
      " 6   Age              10000 non-null  int64  \n",
      " 7   Tenure           9091 non-null   float64\n",
      " 8   Balance          10000 non-null  float64\n",
      " 9   NumOfProducts    10000 non-null  int64  \n",
      " 10  HasCrCard        10000 non-null  int64  \n",
      " 11  IsActiveMember   10000 non-null  int64  \n",
      " 12  EstimatedSalary  10000 non-null  float64\n",
      " 13  Exited           10000 non-null  int64  \n",
      "dtypes: float64(3), int64(8), object(3)\n",
      "memory usage: 1.1+ MB\n"
     ]
    }
   ],
   "source": [
    "data = pd.read_csv('Churn.csv')\n",
    "data.info()"
   ]
  },
  {
   "cell_type": "markdown",
   "metadata": {},
   "source": [
    "В таблице есть пропущенные значения в столбце Tenure. Также, необходимо поменять тип данных этого столбца на целочисленный "
   ]
  },
  {
   "cell_type": "code",
   "execution_count": 3,
   "metadata": {},
   "outputs": [
    {
     "data": {
      "text/html": [
       "<div>\n",
       "<style scoped>\n",
       "    .dataframe tbody tr th:only-of-type {\n",
       "        vertical-align: middle;\n",
       "    }\n",
       "\n",
       "    .dataframe tbody tr th {\n",
       "        vertical-align: top;\n",
       "    }\n",
       "\n",
       "    .dataframe thead th {\n",
       "        text-align: right;\n",
       "    }\n",
       "</style>\n",
       "<table border=\"1\" class=\"dataframe\">\n",
       "  <thead>\n",
       "    <tr style=\"text-align: right;\">\n",
       "      <th></th>\n",
       "      <th>RowNumber</th>\n",
       "      <th>CustomerId</th>\n",
       "      <th>Surname</th>\n",
       "      <th>CreditScore</th>\n",
       "      <th>Geography</th>\n",
       "      <th>Gender</th>\n",
       "      <th>Age</th>\n",
       "      <th>Tenure</th>\n",
       "      <th>Balance</th>\n",
       "      <th>NumOfProducts</th>\n",
       "      <th>HasCrCard</th>\n",
       "      <th>IsActiveMember</th>\n",
       "      <th>EstimatedSalary</th>\n",
       "      <th>Exited</th>\n",
       "    </tr>\n",
       "  </thead>\n",
       "  <tbody>\n",
       "    <tr>\n",
       "      <th>0</th>\n",
       "      <td>1</td>\n",
       "      <td>15634602</td>\n",
       "      <td>Hargrave</td>\n",
       "      <td>619</td>\n",
       "      <td>France</td>\n",
       "      <td>Female</td>\n",
       "      <td>42</td>\n",
       "      <td>2.0</td>\n",
       "      <td>0.00</td>\n",
       "      <td>1</td>\n",
       "      <td>1</td>\n",
       "      <td>1</td>\n",
       "      <td>101348.88</td>\n",
       "      <td>1</td>\n",
       "    </tr>\n",
       "    <tr>\n",
       "      <th>1</th>\n",
       "      <td>2</td>\n",
       "      <td>15647311</td>\n",
       "      <td>Hill</td>\n",
       "      <td>608</td>\n",
       "      <td>Spain</td>\n",
       "      <td>Female</td>\n",
       "      <td>41</td>\n",
       "      <td>1.0</td>\n",
       "      <td>83807.86</td>\n",
       "      <td>1</td>\n",
       "      <td>0</td>\n",
       "      <td>1</td>\n",
       "      <td>112542.58</td>\n",
       "      <td>0</td>\n",
       "    </tr>\n",
       "    <tr>\n",
       "      <th>2</th>\n",
       "      <td>3</td>\n",
       "      <td>15619304</td>\n",
       "      <td>Onio</td>\n",
       "      <td>502</td>\n",
       "      <td>France</td>\n",
       "      <td>Female</td>\n",
       "      <td>42</td>\n",
       "      <td>8.0</td>\n",
       "      <td>159660.80</td>\n",
       "      <td>3</td>\n",
       "      <td>1</td>\n",
       "      <td>0</td>\n",
       "      <td>113931.57</td>\n",
       "      <td>1</td>\n",
       "    </tr>\n",
       "    <tr>\n",
       "      <th>3</th>\n",
       "      <td>4</td>\n",
       "      <td>15701354</td>\n",
       "      <td>Boni</td>\n",
       "      <td>699</td>\n",
       "      <td>France</td>\n",
       "      <td>Female</td>\n",
       "      <td>39</td>\n",
       "      <td>1.0</td>\n",
       "      <td>0.00</td>\n",
       "      <td>2</td>\n",
       "      <td>0</td>\n",
       "      <td>0</td>\n",
       "      <td>93826.63</td>\n",
       "      <td>0</td>\n",
       "    </tr>\n",
       "    <tr>\n",
       "      <th>4</th>\n",
       "      <td>5</td>\n",
       "      <td>15737888</td>\n",
       "      <td>Mitchell</td>\n",
       "      <td>850</td>\n",
       "      <td>Spain</td>\n",
       "      <td>Female</td>\n",
       "      <td>43</td>\n",
       "      <td>2.0</td>\n",
       "      <td>125510.82</td>\n",
       "      <td>1</td>\n",
       "      <td>1</td>\n",
       "      <td>1</td>\n",
       "      <td>79084.10</td>\n",
       "      <td>0</td>\n",
       "    </tr>\n",
       "    <tr>\n",
       "      <th>5</th>\n",
       "      <td>6</td>\n",
       "      <td>15574012</td>\n",
       "      <td>Chu</td>\n",
       "      <td>645</td>\n",
       "      <td>Spain</td>\n",
       "      <td>Male</td>\n",
       "      <td>44</td>\n",
       "      <td>8.0</td>\n",
       "      <td>113755.78</td>\n",
       "      <td>2</td>\n",
       "      <td>1</td>\n",
       "      <td>0</td>\n",
       "      <td>149756.71</td>\n",
       "      <td>1</td>\n",
       "    </tr>\n",
       "    <tr>\n",
       "      <th>6</th>\n",
       "      <td>7</td>\n",
       "      <td>15592531</td>\n",
       "      <td>Bartlett</td>\n",
       "      <td>822</td>\n",
       "      <td>France</td>\n",
       "      <td>Male</td>\n",
       "      <td>50</td>\n",
       "      <td>7.0</td>\n",
       "      <td>0.00</td>\n",
       "      <td>2</td>\n",
       "      <td>1</td>\n",
       "      <td>1</td>\n",
       "      <td>10062.80</td>\n",
       "      <td>0</td>\n",
       "    </tr>\n",
       "    <tr>\n",
       "      <th>7</th>\n",
       "      <td>8</td>\n",
       "      <td>15656148</td>\n",
       "      <td>Obinna</td>\n",
       "      <td>376</td>\n",
       "      <td>Germany</td>\n",
       "      <td>Female</td>\n",
       "      <td>29</td>\n",
       "      <td>4.0</td>\n",
       "      <td>115046.74</td>\n",
       "      <td>4</td>\n",
       "      <td>1</td>\n",
       "      <td>0</td>\n",
       "      <td>119346.88</td>\n",
       "      <td>1</td>\n",
       "    </tr>\n",
       "    <tr>\n",
       "      <th>8</th>\n",
       "      <td>9</td>\n",
       "      <td>15792365</td>\n",
       "      <td>He</td>\n",
       "      <td>501</td>\n",
       "      <td>France</td>\n",
       "      <td>Male</td>\n",
       "      <td>44</td>\n",
       "      <td>4.0</td>\n",
       "      <td>142051.07</td>\n",
       "      <td>2</td>\n",
       "      <td>0</td>\n",
       "      <td>1</td>\n",
       "      <td>74940.50</td>\n",
       "      <td>0</td>\n",
       "    </tr>\n",
       "    <tr>\n",
       "      <th>9</th>\n",
       "      <td>10</td>\n",
       "      <td>15592389</td>\n",
       "      <td>H?</td>\n",
       "      <td>684</td>\n",
       "      <td>France</td>\n",
       "      <td>Male</td>\n",
       "      <td>27</td>\n",
       "      <td>2.0</td>\n",
       "      <td>134603.88</td>\n",
       "      <td>1</td>\n",
       "      <td>1</td>\n",
       "      <td>1</td>\n",
       "      <td>71725.73</td>\n",
       "      <td>0</td>\n",
       "    </tr>\n",
       "  </tbody>\n",
       "</table>\n",
       "</div>"
      ],
      "text/plain": [
       "   RowNumber  CustomerId   Surname  CreditScore Geography  Gender  Age  \\\n",
       "0          1    15634602  Hargrave          619    France  Female   42   \n",
       "1          2    15647311      Hill          608     Spain  Female   41   \n",
       "2          3    15619304      Onio          502    France  Female   42   \n",
       "3          4    15701354      Boni          699    France  Female   39   \n",
       "4          5    15737888  Mitchell          850     Spain  Female   43   \n",
       "5          6    15574012       Chu          645     Spain    Male   44   \n",
       "6          7    15592531  Bartlett          822    France    Male   50   \n",
       "7          8    15656148    Obinna          376   Germany  Female   29   \n",
       "8          9    15792365        He          501    France    Male   44   \n",
       "9         10    15592389        H?          684    France    Male   27   \n",
       "\n",
       "   Tenure    Balance  NumOfProducts  HasCrCard  IsActiveMember  \\\n",
       "0     2.0       0.00              1          1               1   \n",
       "1     1.0   83807.86              1          0               1   \n",
       "2     8.0  159660.80              3          1               0   \n",
       "3     1.0       0.00              2          0               0   \n",
       "4     2.0  125510.82              1          1               1   \n",
       "5     8.0  113755.78              2          1               0   \n",
       "6     7.0       0.00              2          1               1   \n",
       "7     4.0  115046.74              4          1               0   \n",
       "8     4.0  142051.07              2          0               1   \n",
       "9     2.0  134603.88              1          1               1   \n",
       "\n",
       "   EstimatedSalary  Exited  \n",
       "0        101348.88       1  \n",
       "1        112542.58       0  \n",
       "2        113931.57       1  \n",
       "3         93826.63       0  \n",
       "4         79084.10       0  \n",
       "5        149756.71       1  \n",
       "6         10062.80       0  \n",
       "7        119346.88       1  \n",
       "8         74940.50       0  \n",
       "9         71725.73       0  "
      ]
     },
     "execution_count": 3,
     "metadata": {},
     "output_type": "execute_result"
    }
   ],
   "source": [
    "data.head(10)"
   ]
  },
  {
   "cell_type": "code",
   "execution_count": 4,
   "metadata": {},
   "outputs": [
    {
     "data": {
      "text/plain": [
       "<matplotlib.axes._subplots.AxesSubplot at 0x21bbfada610>"
      ]
     },
     "execution_count": 4,
     "metadata": {},
     "output_type": "execute_result"
    },
    {
     "data": {
      "image/png": "[encoded data removed]",
      "text/plain": [
       "<Figure size 432x288 with 1 Axes>"
      ]
     },
     "metadata": {
      "needs_background": "light"
     },
     "output_type": "display_data"
    }
   ],
   "source": [
    "#Построим гистограаму столбца Tenure.\n",
    "data['Tenure'].hist(bins=10)"
   ]
  },
  {
   "cell_type": "markdown",
   "metadata": {},
   "source": [
    "На гистограмме видно, что меньше всего значений ноля, соответственно 10% пропущенных значений можно заполнить 0."
   ]
  },
  {
   "cell_type": "code",
   "execution_count": 5,
   "metadata": {},
   "outputs": [],
   "source": [
    "data['Tenure'] = data['Tenure'].fillna(value = 0)\n",
    "#Приведем тип данных столбца Tenure к целочисленному\n",
    "data['Tenure'] = data['Tenure'].astype('int64')\n",
    "data['Balance'] = data['Balance'].astype('int64')\n",
    "data['EstimatedSalary'] = data['EstimatedSalary'].astype('int64')"
   ]
  },
  {
   "cell_type": "code",
   "execution_count": 6,
   "metadata": {},
   "outputs": [
    {
     "name": "stdout",
     "output_type": "stream",
     "text": [
      "<class 'pandas.core.frame.DataFrame'>\n",
      "RangeIndex: 10000 entries, 0 to 9999\n",
      "Data columns (total 14 columns):\n",
      " #   Column           Non-Null Count  Dtype \n",
      "---  ------           --------------  ----- \n",
      " 0   RowNumber        10000 non-null  int64 \n",
      " 1   CustomerId       10000 non-null  int64 \n",
      " 2   Surname          10000 non-null  object\n",
      " 3   CreditScore      10000 non-null  int64 \n",
      " 4   Geography        10000 non-null  object\n",
      " 5   Gender           10000 non-null  object\n",
      " 6   Age              10000 non-null  int64 \n",
      " 7   Tenure           10000 non-null  int64 \n",
      " 8   Balance          10000 non-null  int64 \n",
      " 9   NumOfProducts    10000 non-null  int64 \n",
      " 10  HasCrCard        10000 non-null  int64 \n",
      " 11  IsActiveMember   10000 non-null  int64 \n",
      " 12  EstimatedSalary  10000 non-null  int64 \n",
      " 13  Exited           10000 non-null  int64 \n",
      "dtypes: int64(11), object(3)\n",
      "memory usage: 1.1+ MB\n"
     ]
    }
   ],
   "source": [
    "data.info()"
   ]
  },
  {
   "cell_type": "markdown",
   "metadata": {},
   "source": [
    "В нашей таблице, на мой взгляд есть лишние столбцы, которые могут ухудшить обучение моделей. Это столбцы CustomerId и Surname. Их можно удалить\n"
   ]
  },
  {
   "cell_type": "code",
   "execution_count": 7,
   "metadata": {},
   "outputs": [
    {
     "name": "stdout",
     "output_type": "stream",
     "text": [
      "<class 'pandas.core.frame.DataFrame'>\n",
      "RangeIndex: 10000 entries, 0 to 9999\n",
      "Data columns (total 11 columns):\n",
      " #   Column           Non-Null Count  Dtype \n",
      "---  ------           --------------  ----- \n",
      " 0   CreditScore      10000 non-null  int64 \n",
      " 1   Geography        10000 non-null  object\n",
      " 2   Gender           10000 non-null  object\n",
      " 3   Age              10000 non-null  int64 \n",
      " 4   Tenure           10000 non-null  int64 \n",
      " 5   Balance          10000 non-null  int64 \n",
      " 6   NumOfProducts    10000 non-null  int64 \n",
      " 7   HasCrCard        10000 non-null  int64 \n",
      " 8   IsActiveMember   10000 non-null  int64 \n",
      " 9   EstimatedSalary  10000 non-null  int64 \n",
      " 10  Exited           10000 non-null  int64 \n",
      "dtypes: int64(9), object(2)\n",
      "memory usage: 859.5+ KB\n"
     ]
    }
   ],
   "source": [
    "data_drop = data.drop(columns=['CustomerId', 'Surname', 'RowNumber'])\n",
    "data_drop.info()"
   ]
  },
  {
   "cell_type": "code",
   "execution_count": 8,
   "metadata": {},
   "outputs": [
    {
     "data": {
      "text/html": [
       "<style  type=\"text/css\" >\n",
       "    #T_7bdac274_79ca_11eb_8e22_1c1b0de819d6row0_col0 {\n",
       "            background-color:  #ff00ff;\n",
       "            color:  #f1f1f1;\n",
       "        }    #T_7bdac274_79ca_11eb_8e22_1c1b0de819d6row0_col1 {\n",
       "            background-color:  #05faff;\n",
       "            color:  #000000;\n",
       "        }    #T_7bdac274_79ca_11eb_8e22_1c1b0de819d6row0_col2 {\n",
       "            background-color:  #08f7ff;\n",
       "            color:  #000000;\n",
       "        }    #T_7bdac274_79ca_11eb_8e22_1c1b0de819d6row0_col3 {\n",
       "            background-color:  #07f8ff;\n",
       "            color:  #000000;\n",
       "        }    #T_7bdac274_79ca_11eb_8e22_1c1b0de819d6row0_col4 {\n",
       "            background-color:  #06f9ff;\n",
       "            color:  #000000;\n",
       "        }    #T_7bdac274_79ca_11eb_8e22_1c1b0de819d6row0_col5 {\n",
       "            background-color:  #39c6ff;\n",
       "            color:  #000000;\n",
       "        }    #T_7bdac274_79ca_11eb_8e22_1c1b0de819d6row0_col6 {\n",
       "            background-color:  #3dc2ff;\n",
       "            color:  #000000;\n",
       "        }    #T_7bdac274_79ca_11eb_8e22_1c1b0de819d6row0_col7 {\n",
       "            background-color:  #03fcff;\n",
       "            color:  #000000;\n",
       "        }    #T_7bdac274_79ca_11eb_8e22_1c1b0de819d6row0_col8 {\n",
       "            background-color:  #25daff;\n",
       "            color:  #000000;\n",
       "        }    #T_7bdac274_79ca_11eb_8e22_1c1b0de819d6row0_col9 {\n",
       "            background-color:  #01feff;\n",
       "            color:  #000000;\n",
       "        }    #T_7bdac274_79ca_11eb_8e22_1c1b0de819d6row0_col10 {\n",
       "            background-color:  #1ee1ff;\n",
       "            color:  #000000;\n",
       "        }    #T_7bdac274_79ca_11eb_8e22_1c1b0de819d6row1_col0 {\n",
       "            background-color:  #05faff;\n",
       "            color:  #000000;\n",
       "        }    #T_7bdac274_79ca_11eb_8e22_1c1b0de819d6row1_col1 {\n",
       "            background-color:  #ff00ff;\n",
       "            color:  #f1f1f1;\n",
       "        }    #T_7bdac274_79ca_11eb_8e22_1c1b0de819d6row1_col2 {\n",
       "            background-color:  #08f7ff;\n",
       "            color:  #000000;\n",
       "        }    #T_7bdac274_79ca_11eb_8e22_1c1b0de819d6row1_col3 {\n",
       "            background-color:  #09f6ff;\n",
       "            color:  #000000;\n",
       "        }    #T_7bdac274_79ca_11eb_8e22_1c1b0de819d6row1_col4 {\n",
       "            background-color:  #02fdff;\n",
       "            color:  #000000;\n",
       "        }    #T_7bdac274_79ca_11eb_8e22_1c1b0de819d6row1_col5 {\n",
       "            background-color:  #39c6ff;\n",
       "            color:  #000000;\n",
       "        }    #T_7bdac274_79ca_11eb_8e22_1c1b0de819d6row1_col6 {\n",
       "            background-color:  #3fc0ff;\n",
       "            color:  #000000;\n",
       "        }    #T_7bdac274_79ca_11eb_8e22_1c1b0de819d6row1_col7 {\n",
       "            background-color:  #00ffff;\n",
       "            color:  #000000;\n",
       "        }    #T_7bdac274_79ca_11eb_8e22_1c1b0de819d6row1_col8 {\n",
       "            background-color:  #22ddff;\n",
       "            color:  #000000;\n",
       "        }    #T_7bdac274_79ca_11eb_8e22_1c1b0de819d6row1_col9 {\n",
       "            background-color:  #06f9ff;\n",
       "            color:  #000000;\n",
       "        }    #T_7bdac274_79ca_11eb_8e22_1c1b0de819d6row1_col10 {\n",
       "            background-color:  #21deff;\n",
       "            color:  #000000;\n",
       "        }    #T_7bdac274_79ca_11eb_8e22_1c1b0de819d6row2_col0 {\n",
       "            background-color:  #05faff;\n",
       "            color:  #000000;\n",
       "        }    #T_7bdac274_79ca_11eb_8e22_1c1b0de819d6row2_col1 {\n",
       "            background-color:  #05faff;\n",
       "            color:  #000000;\n",
       "        }    #T_7bdac274_79ca_11eb_8e22_1c1b0de819d6row2_col2 {\n",
       "            background-color:  #ff00ff;\n",
       "            color:  #f1f1f1;\n",
       "        }    #T_7bdac274_79ca_11eb_8e22_1c1b0de819d6row2_col3 {\n",
       "            background-color:  #06f9ff;\n",
       "            color:  #000000;\n",
       "        }    #T_7bdac274_79ca_11eb_8e22_1c1b0de819d6row2_col4 {\n",
       "            background-color:  #07f8ff;\n",
       "            color:  #000000;\n",
       "        }    #T_7bdac274_79ca_11eb_8e22_1c1b0de819d6row2_col5 {\n",
       "            background-color:  #3cc3ff;\n",
       "            color:  #000000;\n",
       "        }    #T_7bdac274_79ca_11eb_8e22_1c1b0de819d6row2_col6 {\n",
       "            background-color:  #3ec1ff;\n",
       "            color:  #000000;\n",
       "        }    #T_7bdac274_79ca_11eb_8e22_1c1b0de819d6row2_col7 {\n",
       "            background-color:  #02fdff;\n",
       "            color:  #000000;\n",
       "        }    #T_7bdac274_79ca_11eb_8e22_1c1b0de819d6row2_col8 {\n",
       "            background-color:  #28d7ff;\n",
       "            color:  #000000;\n",
       "        }    #T_7bdac274_79ca_11eb_8e22_1c1b0de819d6row2_col9 {\n",
       "            background-color:  #02fdff;\n",
       "            color:  #000000;\n",
       "        }    #T_7bdac274_79ca_11eb_8e22_1c1b0de819d6row2_col10 {\n",
       "            background-color:  #1ce3ff;\n",
       "            color:  #000000;\n",
       "        }    #T_7bdac274_79ca_11eb_8e22_1c1b0de819d6row3_col0 {\n",
       "            background-color:  #04fbff;\n",
       "            color:  #000000;\n",
       "        }    #T_7bdac274_79ca_11eb_8e22_1c1b0de819d6row3_col1 {\n",
       "            background-color:  #06f9ff;\n",
       "            color:  #000000;\n",
       "        }    #T_7bdac274_79ca_11eb_8e22_1c1b0de819d6row3_col2 {\n",
       "            background-color:  #05faff;\n",
       "            color:  #000000;\n",
       "        }    #T_7bdac274_79ca_11eb_8e22_1c1b0de819d6row3_col3 {\n",
       "            background-color:  #ff00ff;\n",
       "            color:  #f1f1f1;\n",
       "        }    #T_7bdac274_79ca_11eb_8e22_1c1b0de819d6row3_col4 {\n",
       "            background-color:  #04fbff;\n",
       "            color:  #000000;\n",
       "        }    #T_7bdac274_79ca_11eb_8e22_1c1b0de819d6row3_col5 {\n",
       "            background-color:  #41beff;\n",
       "            color:  #000000;\n",
       "        }    #T_7bdac274_79ca_11eb_8e22_1c1b0de819d6row3_col6 {\n",
       "            background-color:  #35caff;\n",
       "            color:  #000000;\n",
       "        }    #T_7bdac274_79ca_11eb_8e22_1c1b0de819d6row3_col7 {\n",
       "            background-color:  #00ffff;\n",
       "            color:  #000000;\n",
       "        }    #T_7bdac274_79ca_11eb_8e22_1c1b0de819d6row3_col8 {\n",
       "            background-color:  #35caff;\n",
       "            color:  #000000;\n",
       "        }    #T_7bdac274_79ca_11eb_8e22_1c1b0de819d6row3_col9 {\n",
       "            background-color:  #01feff;\n",
       "            color:  #000000;\n",
       "        }    #T_7bdac274_79ca_11eb_8e22_1c1b0de819d6row3_col10 {\n",
       "            background-color:  #619eff;\n",
       "            color:  #000000;\n",
       "        }    #T_7bdac274_79ca_11eb_8e22_1c1b0de819d6row4_col0 {\n",
       "            background-color:  #04fbff;\n",
       "            color:  #000000;\n",
       "        }    #T_7bdac274_79ca_11eb_8e22_1c1b0de819d6row4_col1 {\n",
       "            background-color:  #00ffff;\n",
       "            color:  #000000;\n",
       "        }    #T_7bdac274_79ca_11eb_8e22_1c1b0de819d6row4_col2 {\n",
       "            background-color:  #07f8ff;\n",
       "            color:  #000000;\n",
       "        }    #T_7bdac274_79ca_11eb_8e22_1c1b0de819d6row4_col3 {\n",
       "            background-color:  #05faff;\n",
       "            color:  #000000;\n",
       "        }    #T_7bdac274_79ca_11eb_8e22_1c1b0de819d6row4_col4 {\n",
       "            background-color:  #ff00ff;\n",
       "            color:  #f1f1f1;\n",
       "        }    #T_7bdac274_79ca_11eb_8e22_1c1b0de819d6row4_col5 {\n",
       "            background-color:  #3ac5ff;\n",
       "            color:  #000000;\n",
       "        }    #T_7bdac274_79ca_11eb_8e22_1c1b0de819d6row4_col6 {\n",
       "            background-color:  #3dc2ff;\n",
       "            color:  #000000;\n",
       "        }    #T_7bdac274_79ca_11eb_8e22_1c1b0de819d6row4_col7 {\n",
       "            background-color:  #09f6ff;\n",
       "            color:  #000000;\n",
       "        }    #T_7bdac274_79ca_11eb_8e22_1c1b0de819d6row4_col8 {\n",
       "            background-color:  #1ce3ff;\n",
       "            color:  #000000;\n",
       "        }    #T_7bdac274_79ca_11eb_8e22_1c1b0de819d6row4_col9 {\n",
       "            background-color:  #05faff;\n",
       "            color:  #000000;\n",
       "        }    #T_7bdac274_79ca_11eb_8e22_1c1b0de819d6row4_col10 {\n",
       "            background-color:  #1fe0ff;\n",
       "            color:  #000000;\n",
       "        }    #T_7bdac274_79ca_11eb_8e22_1c1b0de819d6row5_col0 {\n",
       "            background-color:  #01feff;\n",
       "            color:  #000000;\n",
       "        }    #T_7bdac274_79ca_11eb_8e22_1c1b0de819d6row5_col1 {\n",
       "            background-color:  #00ffff;\n",
       "            color:  #000000;\n",
       "        }    #T_7bdac274_79ca_11eb_8e22_1c1b0de819d6row5_col2 {\n",
       "            background-color:  #08f7ff;\n",
       "            color:  #000000;\n",
       "        }    #T_7bdac274_79ca_11eb_8e22_1c1b0de819d6row5_col3 {\n",
       "            background-color:  #0ef1ff;\n",
       "            color:  #000000;\n",
       "        }    #T_7bdac274_79ca_11eb_8e22_1c1b0de819d6row5_col4 {\n",
       "            background-color:  #04fbff;\n",
       "            color:  #000000;\n",
       "        }    #T_7bdac274_79ca_11eb_8e22_1c1b0de819d6row5_col5 {\n",
       "            background-color:  #ff00ff;\n",
       "            color:  #f1f1f1;\n",
       "        }    #T_7bdac274_79ca_11eb_8e22_1c1b0de819d6row5_col6 {\n",
       "            background-color:  #00ffff;\n",
       "            color:  #000000;\n",
       "        }    #T_7bdac274_79ca_11eb_8e22_1c1b0de819d6row5_col7 {\n",
       "            background-color:  #00ffff;\n",
       "            color:  #000000;\n",
       "        }    #T_7bdac274_79ca_11eb_8e22_1c1b0de819d6row5_col8 {\n",
       "            background-color:  #20dfff;\n",
       "            color:  #000000;\n",
       "        }    #T_7bdac274_79ca_11eb_8e22_1c1b0de819d6row5_col9 {\n",
       "            background-color:  #06f9ff;\n",
       "            color:  #000000;\n",
       "        }    #T_7bdac274_79ca_11eb_8e22_1c1b0de819d6row5_col10 {\n",
       "            background-color:  #3cc3ff;\n",
       "            color:  #000000;\n",
       "        }    #T_7bdac274_79ca_11eb_8e22_1c1b0de819d6row6_col0 {\n",
       "            background-color:  #05faff;\n",
       "            color:  #000000;\n",
       "        }    #T_7bdac274_79ca_11eb_8e22_1c1b0de819d6row6_col1 {\n",
       "            background-color:  #08f7ff;\n",
       "            color:  #000000;\n",
       "        }    #T_7bdac274_79ca_11eb_8e22_1c1b0de819d6row6_col2 {\n",
       "            background-color:  #09f6ff;\n",
       "            color:  #000000;\n",
       "        }    #T_7bdac274_79ca_11eb_8e22_1c1b0de819d6row6_col3 {\n",
       "            background-color:  #00ffff;\n",
       "            color:  #000000;\n",
       "        }    #T_7bdac274_79ca_11eb_8e22_1c1b0de819d6row6_col4 {\n",
       "            background-color:  #08f7ff;\n",
       "            color:  #000000;\n",
       "        }    #T_7bdac274_79ca_11eb_8e22_1c1b0de819d6row6_col5 {\n",
       "            background-color:  #00ffff;\n",
       "            color:  #000000;\n",
       "        }    #T_7bdac274_79ca_11eb_8e22_1c1b0de819d6row6_col6 {\n",
       "            background-color:  #ff00ff;\n",
       "            color:  #f1f1f1;\n",
       "        }    #T_7bdac274_79ca_11eb_8e22_1c1b0de819d6row6_col7 {\n",
       "            background-color:  #04fbff;\n",
       "            color:  #000000;\n",
       "        }    #T_7bdac274_79ca_11eb_8e22_1c1b0de819d6row6_col8 {\n",
       "            background-color:  #24dbff;\n",
       "            color:  #000000;\n",
       "        }    #T_7bdac274_79ca_11eb_8e22_1c1b0de819d6row6_col9 {\n",
       "            background-color:  #06f9ff;\n",
       "            color:  #000000;\n",
       "        }    #T_7bdac274_79ca_11eb_8e22_1c1b0de819d6row6_col10 {\n",
       "            background-color:  #17e8ff;\n",
       "            color:  #000000;\n",
       "        }    #T_7bdac274_79ca_11eb_8e22_1c1b0de819d6row7_col0 {\n",
       "            background-color:  #04fbff;\n",
       "            color:  #000000;\n",
       "        }    #T_7bdac274_79ca_11eb_8e22_1c1b0de819d6row7_col1 {\n",
       "            background-color:  #00ffff;\n",
       "            color:  #000000;\n",
       "        }    #T_7bdac274_79ca_11eb_8e22_1c1b0de819d6row7_col2 {\n",
       "            background-color:  #05faff;\n",
       "            color:  #000000;\n",
       "        }    #T_7bdac274_79ca_11eb_8e22_1c1b0de819d6row7_col3 {\n",
       "            background-color:  #04fbff;\n",
       "            color:  #000000;\n",
       "        }    #T_7bdac274_79ca_11eb_8e22_1c1b0de819d6row7_col4 {\n",
       "            background-color:  #0bf4ff;\n",
       "            color:  #000000;\n",
       "        }    #T_7bdac274_79ca_11eb_8e22_1c1b0de819d6row7_col5 {\n",
       "            background-color:  #38c7ff;\n",
       "            color:  #000000;\n",
       "        }    #T_7bdac274_79ca_11eb_8e22_1c1b0de819d6row7_col6 {\n",
       "            background-color:  #3cc3ff;\n",
       "            color:  #000000;\n",
       "        }    #T_7bdac274_79ca_11eb_8e22_1c1b0de819d6row7_col7 {\n",
       "            background-color:  #ff00ff;\n",
       "            color:  #f1f1f1;\n",
       "        }    #T_7bdac274_79ca_11eb_8e22_1c1b0de819d6row7_col8 {\n",
       "            background-color:  #1fe0ff;\n",
       "            color:  #000000;\n",
       "        }    #T_7bdac274_79ca_11eb_8e22_1c1b0de819d6row7_col9 {\n",
       "            background-color:  #00ffff;\n",
       "            color:  #000000;\n",
       "        }    #T_7bdac274_79ca_11eb_8e22_1c1b0de819d6row7_col10 {\n",
       "            background-color:  #20dfff;\n",
       "            color:  #000000;\n",
       "        }    #T_7bdac274_79ca_11eb_8e22_1c1b0de819d6row8_col0 {\n",
       "            background-color:  #07f8ff;\n",
       "            color:  #000000;\n",
       "        }    #T_7bdac274_79ca_11eb_8e22_1c1b0de819d6row8_col1 {\n",
       "            background-color:  #04fbff;\n",
       "            color:  #000000;\n",
       "        }    #T_7bdac274_79ca_11eb_8e22_1c1b0de819d6row8_col2 {\n",
       "            background-color:  #0df2ff;\n",
       "            color:  #000000;\n",
       "        }    #T_7bdac274_79ca_11eb_8e22_1c1b0de819d6row8_col3 {\n",
       "            background-color:  #1ce3ff;\n",
       "            color:  #000000;\n",
       "        }    #T_7bdac274_79ca_11eb_8e22_1c1b0de819d6row8_col4 {\n",
       "            background-color:  #00ffff;\n",
       "            color:  #000000;\n",
       "        }    #T_7bdac274_79ca_11eb_8e22_1c1b0de819d6row8_col5 {\n",
       "            background-color:  #39c6ff;\n",
       "            color:  #000000;\n",
       "        }    #T_7bdac274_79ca_11eb_8e22_1c1b0de819d6row8_col6 {\n",
       "            background-color:  #3dc2ff;\n",
       "            color:  #000000;\n",
       "        }    #T_7bdac274_79ca_11eb_8e22_1c1b0de819d6row8_col7 {\n",
       "            background-color:  #00ffff;\n",
       "            color:  #000000;\n",
       "        }    #T_7bdac274_79ca_11eb_8e22_1c1b0de819d6row8_col8 {\n",
       "            background-color:  #ff00ff;\n",
       "            color:  #f1f1f1;\n",
       "        }    #T_7bdac274_79ca_11eb_8e22_1c1b0de819d6row8_col9 {\n",
       "            background-color:  #00ffff;\n",
       "            color:  #000000;\n",
       "        }    #T_7bdac274_79ca_11eb_8e22_1c1b0de819d6row8_col10 {\n",
       "            background-color:  #00ffff;\n",
       "            color:  #000000;\n",
       "        }    #T_7bdac274_79ca_11eb_8e22_1c1b0de819d6row9_col0 {\n",
       "            background-color:  #02fdff;\n",
       "            color:  #000000;\n",
       "        }    #T_7bdac274_79ca_11eb_8e22_1c1b0de819d6row9_col1 {\n",
       "            background-color:  #07f8ff;\n",
       "            color:  #000000;\n",
       "        }    #T_7bdac274_79ca_11eb_8e22_1c1b0de819d6row9_col2 {\n",
       "            background-color:  #06f9ff;\n",
       "            color:  #000000;\n",
       "        }    #T_7bdac274_79ca_11eb_8e22_1c1b0de819d6row9_col3 {\n",
       "            background-color:  #05faff;\n",
       "            color:  #000000;\n",
       "        }    #T_7bdac274_79ca_11eb_8e22_1c1b0de819d6row9_col4 {\n",
       "            background-color:  #09f6ff;\n",
       "            color:  #000000;\n",
       "        }    #T_7bdac274_79ca_11eb_8e22_1c1b0de819d6row9_col5 {\n",
       "            background-color:  #3ec1ff;\n",
       "            color:  #000000;\n",
       "        }    #T_7bdac274_79ca_11eb_8e22_1c1b0de819d6row9_col6 {\n",
       "            background-color:  #3ec1ff;\n",
       "            color:  #000000;\n",
       "        }    #T_7bdac274_79ca_11eb_8e22_1c1b0de819d6row9_col7 {\n",
       "            background-color:  #01feff;\n",
       "            color:  #000000;\n",
       "        }    #T_7bdac274_79ca_11eb_8e22_1c1b0de819d6row9_col8 {\n",
       "            background-color:  #20dfff;\n",
       "            color:  #000000;\n",
       "        }    #T_7bdac274_79ca_11eb_8e22_1c1b0de819d6row9_col9 {\n",
       "            background-color:  #ff00ff;\n",
       "            color:  #f1f1f1;\n",
       "        }    #T_7bdac274_79ca_11eb_8e22_1c1b0de819d6row9_col10 {\n",
       "            background-color:  #25daff;\n",
       "            color:  #000000;\n",
       "        }    #T_7bdac274_79ca_11eb_8e22_1c1b0de819d6row10_col0 {\n",
       "            background-color:  #00ffff;\n",
       "            color:  #000000;\n",
       "        }    #T_7bdac274_79ca_11eb_8e22_1c1b0de819d6row10_col1 {\n",
       "            background-color:  #02fdff;\n",
       "            color:  #000000;\n",
       "        }    #T_7bdac274_79ca_11eb_8e22_1c1b0de819d6row10_col2 {\n",
       "            background-color:  #00ffff;\n",
       "            color:  #000000;\n",
       "        }    #T_7bdac274_79ca_11eb_8e22_1c1b0de819d6row10_col3 {\n",
       "            background-color:  #4eb1ff;\n",
       "            color:  #000000;\n",
       "        }    #T_7bdac274_79ca_11eb_8e22_1c1b0de819d6row10_col4 {\n",
       "            background-color:  #03fcff;\n",
       "            color:  #000000;\n",
       "        }    #T_7bdac274_79ca_11eb_8e22_1c1b0de819d6row10_col5 {\n",
       "            background-color:  #52adff;\n",
       "            color:  #000000;\n",
       "        }    #T_7bdac274_79ca_11eb_8e22_1c1b0de819d6row10_col6 {\n",
       "            background-color:  #32cdff;\n",
       "            color:  #000000;\n",
       "        }    #T_7bdac274_79ca_11eb_8e22_1c1b0de819d6row10_col7 {\n",
       "            background-color:  #01feff;\n",
       "            color:  #000000;\n",
       "        }    #T_7bdac274_79ca_11eb_8e22_1c1b0de819d6row10_col8 {\n",
       "            background-color:  #00ffff;\n",
       "            color:  #000000;\n",
       "        }    #T_7bdac274_79ca_11eb_8e22_1c1b0de819d6row10_col9 {\n",
       "            background-color:  #05faff;\n",
       "            color:  #000000;\n",
       "        }    #T_7bdac274_79ca_11eb_8e22_1c1b0de819d6row10_col10 {\n",
       "            background-color:  #ff00ff;\n",
       "            color:  #f1f1f1;\n",
       "        }</style><table id=\"T_7bdac274_79ca_11eb_8e22_1c1b0de819d6\" ><thead>    <tr>        <th class=\"blank level0\" ></th>        <th class=\"col_heading level0 col0\" >RowNumber</th>        <th class=\"col_heading level0 col1\" >CustomerId</th>        <th class=\"col_heading level0 col2\" >CreditScore</th>        <th class=\"col_heading level0 col3\" >Age</th>        <th class=\"col_heading level0 col4\" >Tenure</th>        <th class=\"col_heading level0 col5\" >Balance</th>        <th class=\"col_heading level0 col6\" >NumOfProducts</th>        <th class=\"col_heading level0 col7\" >HasCrCard</th>        <th class=\"col_heading level0 col8\" >IsActiveMember</th>        <th class=\"col_heading level0 col9\" >EstimatedSalary</th>        <th class=\"col_heading level0 col10\" >Exited</th>    </tr></thead><tbody>\n",
       "                <tr>\n",
       "                        <th id=\"T_7bdac274_79ca_11eb_8e22_1c1b0de819d6level0_row0\" class=\"row_heading level0 row0\" >RowNumber</th>\n",
       "                        <td id=\"T_7bdac274_79ca_11eb_8e22_1c1b0de819d6row0_col0\" class=\"data row0 col0\" >1.000</td>\n",
       "                        <td id=\"T_7bdac274_79ca_11eb_8e22_1c1b0de819d6row0_col1\" class=\"data row0 col1\" >0.004</td>\n",
       "                        <td id=\"T_7bdac274_79ca_11eb_8e22_1c1b0de819d6row0_col2\" class=\"data row0 col2\" >0.006</td>\n",
       "                        <td id=\"T_7bdac274_79ca_11eb_8e22_1c1b0de819d6row0_col3\" class=\"data row0 col3\" >0.001</td>\n",
       "                        <td id=\"T_7bdac274_79ca_11eb_8e22_1c1b0de819d6row0_col4\" class=\"data row0 col4\" >0.001</td>\n",
       "                        <td id=\"T_7bdac274_79ca_11eb_8e22_1c1b0de819d6row0_col5\" class=\"data row0 col5\" >-0.009</td>\n",
       "                        <td id=\"T_7bdac274_79ca_11eb_8e22_1c1b0de819d6row0_col6\" class=\"data row0 col6\" >0.007</td>\n",
       "                        <td id=\"T_7bdac274_79ca_11eb_8e22_1c1b0de819d6row0_col7\" class=\"data row0 col7\" >0.001</td>\n",
       "                        <td id=\"T_7bdac274_79ca_11eb_8e22_1c1b0de819d6row0_col8\" class=\"data row0 col8\" >0.012</td>\n",
       "                        <td id=\"T_7bdac274_79ca_11eb_8e22_1c1b0de819d6row0_col9\" class=\"data row0 col9\" >-0.006</td>\n",
       "                        <td id=\"T_7bdac274_79ca_11eb_8e22_1c1b0de819d6row0_col10\" class=\"data row0 col10\" >-0.017</td>\n",
       "            </tr>\n",
       "            <tr>\n",
       "                        <th id=\"T_7bdac274_79ca_11eb_8e22_1c1b0de819d6level0_row1\" class=\"row_heading level0 row1\" >CustomerId</th>\n",
       "                        <td id=\"T_7bdac274_79ca_11eb_8e22_1c1b0de819d6row1_col0\" class=\"data row1 col0\" >0.004</td>\n",
       "                        <td id=\"T_7bdac274_79ca_11eb_8e22_1c1b0de819d6row1_col1\" class=\"data row1 col1\" >1.000</td>\n",
       "                        <td id=\"T_7bdac274_79ca_11eb_8e22_1c1b0de819d6row1_col2\" class=\"data row1 col2\" >0.005</td>\n",
       "                        <td id=\"T_7bdac274_79ca_11eb_8e22_1c1b0de819d6row1_col3\" class=\"data row1 col3\" >0.009</td>\n",
       "                        <td id=\"T_7bdac274_79ca_11eb_8e22_1c1b0de819d6row1_col4\" class=\"data row1 col4\" >-0.016</td>\n",
       "                        <td id=\"T_7bdac274_79ca_11eb_8e22_1c1b0de819d6row1_col5\" class=\"data row1 col5\" >-0.012</td>\n",
       "                        <td id=\"T_7bdac274_79ca_11eb_8e22_1c1b0de819d6row1_col6\" class=\"data row1 col6\" >0.017</td>\n",
       "                        <td id=\"T_7bdac274_79ca_11eb_8e22_1c1b0de819d6row1_col7\" class=\"data row1 col7\" >-0.014</td>\n",
       "                        <td id=\"T_7bdac274_79ca_11eb_8e22_1c1b0de819d6row1_col8\" class=\"data row1 col8\" >0.002</td>\n",
       "                        <td id=\"T_7bdac274_79ca_11eb_8e22_1c1b0de819d6row1_col9\" class=\"data row1 col9\" >0.015</td>\n",
       "                        <td id=\"T_7bdac274_79ca_11eb_8e22_1c1b0de819d6row1_col10\" class=\"data row1 col10\" >-0.006</td>\n",
       "            </tr>\n",
       "            <tr>\n",
       "                        <th id=\"T_7bdac274_79ca_11eb_8e22_1c1b0de819d6level0_row2\" class=\"row_heading level0 row2\" >CreditScore</th>\n",
       "                        <td id=\"T_7bdac274_79ca_11eb_8e22_1c1b0de819d6row2_col0\" class=\"data row2 col0\" >0.006</td>\n",
       "                        <td id=\"T_7bdac274_79ca_11eb_8e22_1c1b0de819d6row2_col1\" class=\"data row2 col1\" >0.005</td>\n",
       "                        <td id=\"T_7bdac274_79ca_11eb_8e22_1c1b0de819d6row2_col2\" class=\"data row2 col2\" >1.000</td>\n",
       "                        <td id=\"T_7bdac274_79ca_11eb_8e22_1c1b0de819d6row2_col3\" class=\"data row2 col3\" >-0.004</td>\n",
       "                        <td id=\"T_7bdac274_79ca_11eb_8e22_1c1b0de819d6row2_col4\" class=\"data row2 col4\" >0.003</td>\n",
       "                        <td id=\"T_7bdac274_79ca_11eb_8e22_1c1b0de819d6row2_col5\" class=\"data row2 col5\" >0.006</td>\n",
       "                        <td id=\"T_7bdac274_79ca_11eb_8e22_1c1b0de819d6row2_col6\" class=\"data row2 col6\" >0.012</td>\n",
       "                        <td id=\"T_7bdac274_79ca_11eb_8e22_1c1b0de819d6row2_col7\" class=\"data row2 col7\" >-0.005</td>\n",
       "                        <td id=\"T_7bdac274_79ca_11eb_8e22_1c1b0de819d6row2_col8\" class=\"data row2 col8\" >0.026</td>\n",
       "                        <td id=\"T_7bdac274_79ca_11eb_8e22_1c1b0de819d6row2_col9\" class=\"data row2 col9\" >-0.001</td>\n",
       "                        <td id=\"T_7bdac274_79ca_11eb_8e22_1c1b0de819d6row2_col10\" class=\"data row2 col10\" >-0.027</td>\n",
       "            </tr>\n",
       "            <tr>\n",
       "                        <th id=\"T_7bdac274_79ca_11eb_8e22_1c1b0de819d6level0_row3\" class=\"row_heading level0 row3\" >Age</th>\n",
       "                        <td id=\"T_7bdac274_79ca_11eb_8e22_1c1b0de819d6row3_col0\" class=\"data row3 col0\" >0.001</td>\n",
       "                        <td id=\"T_7bdac274_79ca_11eb_8e22_1c1b0de819d6row3_col1\" class=\"data row3 col1\" >0.009</td>\n",
       "                        <td id=\"T_7bdac274_79ca_11eb_8e22_1c1b0de819d6row3_col2\" class=\"data row3 col2\" >-0.004</td>\n",
       "                        <td id=\"T_7bdac274_79ca_11eb_8e22_1c1b0de819d6row3_col3\" class=\"data row3 col3\" >1.000</td>\n",
       "                        <td id=\"T_7bdac274_79ca_11eb_8e22_1c1b0de819d6row3_col4\" class=\"data row3 col4\" >-0.007</td>\n",
       "                        <td id=\"T_7bdac274_79ca_11eb_8e22_1c1b0de819d6row3_col5\" class=\"data row3 col5\" >0.028</td>\n",
       "                        <td id=\"T_7bdac274_79ca_11eb_8e22_1c1b0de819d6row3_col6\" class=\"data row3 col6\" >-0.031</td>\n",
       "                        <td id=\"T_7bdac274_79ca_11eb_8e22_1c1b0de819d6row3_col7\" class=\"data row3 col7\" >-0.012</td>\n",
       "                        <td id=\"T_7bdac274_79ca_11eb_8e22_1c1b0de819d6row3_col8\" class=\"data row3 col8\" >0.085</td>\n",
       "                        <td id=\"T_7bdac274_79ca_11eb_8e22_1c1b0de819d6row3_col9\" class=\"data row3 col9\" >-0.007</td>\n",
       "                        <td id=\"T_7bdac274_79ca_11eb_8e22_1c1b0de819d6row3_col10\" class=\"data row3 col10\" >0.285</td>\n",
       "            </tr>\n",
       "            <tr>\n",
       "                        <th id=\"T_7bdac274_79ca_11eb_8e22_1c1b0de819d6level0_row4\" class=\"row_heading level0 row4\" >Tenure</th>\n",
       "                        <td id=\"T_7bdac274_79ca_11eb_8e22_1c1b0de819d6row4_col0\" class=\"data row4 col0\" >0.001</td>\n",
       "                        <td id=\"T_7bdac274_79ca_11eb_8e22_1c1b0de819d6row4_col1\" class=\"data row4 col1\" >-0.016</td>\n",
       "                        <td id=\"T_7bdac274_79ca_11eb_8e22_1c1b0de819d6row4_col2\" class=\"data row4 col2\" >0.003</td>\n",
       "                        <td id=\"T_7bdac274_79ca_11eb_8e22_1c1b0de819d6row4_col3\" class=\"data row4 col3\" >-0.007</td>\n",
       "                        <td id=\"T_7bdac274_79ca_11eb_8e22_1c1b0de819d6row4_col4\" class=\"data row4 col4\" >1.000</td>\n",
       "                        <td id=\"T_7bdac274_79ca_11eb_8e22_1c1b0de819d6row4_col5\" class=\"data row4 col5\" >-0.006</td>\n",
       "                        <td id=\"T_7bdac274_79ca_11eb_8e22_1c1b0de819d6row4_col6\" class=\"data row4 col6\" >0.010</td>\n",
       "                        <td id=\"T_7bdac274_79ca_11eb_8e22_1c1b0de819d6row4_col7\" class=\"data row4 col7\" >0.021</td>\n",
       "                        <td id=\"T_7bdac274_79ca_11eb_8e22_1c1b0de819d6row4_col8\" class=\"data row4 col8\" >-0.026</td>\n",
       "                        <td id=\"T_7bdac274_79ca_11eb_8e22_1c1b0de819d6row4_col9\" class=\"data row4 col9\" >0.011</td>\n",
       "                        <td id=\"T_7bdac274_79ca_11eb_8e22_1c1b0de819d6row4_col10\" class=\"data row4 col10\" >-0.013</td>\n",
       "            </tr>\n",
       "            <tr>\n",
       "                        <th id=\"T_7bdac274_79ca_11eb_8e22_1c1b0de819d6level0_row5\" class=\"row_heading level0 row5\" >Balance</th>\n",
       "                        <td id=\"T_7bdac274_79ca_11eb_8e22_1c1b0de819d6row5_col0\" class=\"data row5 col0\" >-0.009</td>\n",
       "                        <td id=\"T_7bdac274_79ca_11eb_8e22_1c1b0de819d6row5_col1\" class=\"data row5 col1\" >-0.012</td>\n",
       "                        <td id=\"T_7bdac274_79ca_11eb_8e22_1c1b0de819d6row5_col2\" class=\"data row5 col2\" >0.006</td>\n",
       "                        <td id=\"T_7bdac274_79ca_11eb_8e22_1c1b0de819d6row5_col3\" class=\"data row5 col3\" >0.028</td>\n",
       "                        <td id=\"T_7bdac274_79ca_11eb_8e22_1c1b0de819d6row5_col4\" class=\"data row5 col4\" >-0.006</td>\n",
       "                        <td id=\"T_7bdac274_79ca_11eb_8e22_1c1b0de819d6row5_col5\" class=\"data row5 col5\" >1.000</td>\n",
       "                        <td id=\"T_7bdac274_79ca_11eb_8e22_1c1b0de819d6row5_col6\" class=\"data row5 col6\" >-0.304</td>\n",
       "                        <td id=\"T_7bdac274_79ca_11eb_8e22_1c1b0de819d6row5_col7\" class=\"data row5 col7\" >-0.015</td>\n",
       "                        <td id=\"T_7bdac274_79ca_11eb_8e22_1c1b0de819d6row5_col8\" class=\"data row5 col8\" >-0.010</td>\n",
       "                        <td id=\"T_7bdac274_79ca_11eb_8e22_1c1b0de819d6row5_col9\" class=\"data row5 col9\" >0.013</td>\n",
       "                        <td id=\"T_7bdac274_79ca_11eb_8e22_1c1b0de819d6row5_col10\" class=\"data row5 col10\" >0.119</td>\n",
       "            </tr>\n",
       "            <tr>\n",
       "                        <th id=\"T_7bdac274_79ca_11eb_8e22_1c1b0de819d6level0_row6\" class=\"row_heading level0 row6\" >NumOfProducts</th>\n",
       "                        <td id=\"T_7bdac274_79ca_11eb_8e22_1c1b0de819d6row6_col0\" class=\"data row6 col0\" >0.007</td>\n",
       "                        <td id=\"T_7bdac274_79ca_11eb_8e22_1c1b0de819d6row6_col1\" class=\"data row6 col1\" >0.017</td>\n",
       "                        <td id=\"T_7bdac274_79ca_11eb_8e22_1c1b0de819d6row6_col2\" class=\"data row6 col2\" >0.012</td>\n",
       "                        <td id=\"T_7bdac274_79ca_11eb_8e22_1c1b0de819d6row6_col3\" class=\"data row6 col3\" >-0.031</td>\n",
       "                        <td id=\"T_7bdac274_79ca_11eb_8e22_1c1b0de819d6row6_col4\" class=\"data row6 col4\" >0.010</td>\n",
       "                        <td id=\"T_7bdac274_79ca_11eb_8e22_1c1b0de819d6row6_col5\" class=\"data row6 col5\" >-0.304</td>\n",
       "                        <td id=\"T_7bdac274_79ca_11eb_8e22_1c1b0de819d6row6_col6\" class=\"data row6 col6\" >1.000</td>\n",
       "                        <td id=\"T_7bdac274_79ca_11eb_8e22_1c1b0de819d6row6_col7\" class=\"data row6 col7\" >0.003</td>\n",
       "                        <td id=\"T_7bdac274_79ca_11eb_8e22_1c1b0de819d6row6_col8\" class=\"data row6 col8\" >0.010</td>\n",
       "                        <td id=\"T_7bdac274_79ca_11eb_8e22_1c1b0de819d6row6_col9\" class=\"data row6 col9\" >0.014</td>\n",
       "                        <td id=\"T_7bdac274_79ca_11eb_8e22_1c1b0de819d6row6_col10\" class=\"data row6 col10\" >-0.048</td>\n",
       "            </tr>\n",
       "            <tr>\n",
       "                        <th id=\"T_7bdac274_79ca_11eb_8e22_1c1b0de819d6level0_row7\" class=\"row_heading level0 row7\" >HasCrCard</th>\n",
       "                        <td id=\"T_7bdac274_79ca_11eb_8e22_1c1b0de819d6row7_col0\" class=\"data row7 col0\" >0.001</td>\n",
       "                        <td id=\"T_7bdac274_79ca_11eb_8e22_1c1b0de819d6row7_col1\" class=\"data row7 col1\" >-0.014</td>\n",
       "                        <td id=\"T_7bdac274_79ca_11eb_8e22_1c1b0de819d6row7_col2\" class=\"data row7 col2\" >-0.005</td>\n",
       "                        <td id=\"T_7bdac274_79ca_11eb_8e22_1c1b0de819d6row7_col3\" class=\"data row7 col3\" >-0.012</td>\n",
       "                        <td id=\"T_7bdac274_79ca_11eb_8e22_1c1b0de819d6row7_col4\" class=\"data row7 col4\" >0.021</td>\n",
       "                        <td id=\"T_7bdac274_79ca_11eb_8e22_1c1b0de819d6row7_col5\" class=\"data row7 col5\" >-0.015</td>\n",
       "                        <td id=\"T_7bdac274_79ca_11eb_8e22_1c1b0de819d6row7_col6\" class=\"data row7 col6\" >0.003</td>\n",
       "                        <td id=\"T_7bdac274_79ca_11eb_8e22_1c1b0de819d6row7_col7\" class=\"data row7 col7\" >1.000</td>\n",
       "                        <td id=\"T_7bdac274_79ca_11eb_8e22_1c1b0de819d6row7_col8\" class=\"data row7 col8\" >-0.012</td>\n",
       "                        <td id=\"T_7bdac274_79ca_11eb_8e22_1c1b0de819d6row7_col9\" class=\"data row7 col9\" >-0.010</td>\n",
       "                        <td id=\"T_7bdac274_79ca_11eb_8e22_1c1b0de819d6row7_col10\" class=\"data row7 col10\" >-0.007</td>\n",
       "            </tr>\n",
       "            <tr>\n",
       "                        <th id=\"T_7bdac274_79ca_11eb_8e22_1c1b0de819d6level0_row8\" class=\"row_heading level0 row8\" >IsActiveMember</th>\n",
       "                        <td id=\"T_7bdac274_79ca_11eb_8e22_1c1b0de819d6row8_col0\" class=\"data row8 col0\" >0.012</td>\n",
       "                        <td id=\"T_7bdac274_79ca_11eb_8e22_1c1b0de819d6row8_col1\" class=\"data row8 col1\" >0.002</td>\n",
       "                        <td id=\"T_7bdac274_79ca_11eb_8e22_1c1b0de819d6row8_col2\" class=\"data row8 col2\" >0.026</td>\n",
       "                        <td id=\"T_7bdac274_79ca_11eb_8e22_1c1b0de819d6row8_col3\" class=\"data row8 col3\" >0.085</td>\n",
       "                        <td id=\"T_7bdac274_79ca_11eb_8e22_1c1b0de819d6row8_col4\" class=\"data row8 col4\" >-0.026</td>\n",
       "                        <td id=\"T_7bdac274_79ca_11eb_8e22_1c1b0de819d6row8_col5\" class=\"data row8 col5\" >-0.010</td>\n",
       "                        <td id=\"T_7bdac274_79ca_11eb_8e22_1c1b0de819d6row8_col6\" class=\"data row8 col6\" >0.010</td>\n",
       "                        <td id=\"T_7bdac274_79ca_11eb_8e22_1c1b0de819d6row8_col7\" class=\"data row8 col7\" >-0.012</td>\n",
       "                        <td id=\"T_7bdac274_79ca_11eb_8e22_1c1b0de819d6row8_col8\" class=\"data row8 col8\" >1.000</td>\n",
       "                        <td id=\"T_7bdac274_79ca_11eb_8e22_1c1b0de819d6row8_col9\" class=\"data row8 col9\" >-0.011</td>\n",
       "                        <td id=\"T_7bdac274_79ca_11eb_8e22_1c1b0de819d6row8_col10\" class=\"data row8 col10\" >-0.156</td>\n",
       "            </tr>\n",
       "            <tr>\n",
       "                        <th id=\"T_7bdac274_79ca_11eb_8e22_1c1b0de819d6level0_row9\" class=\"row_heading level0 row9\" >EstimatedSalary</th>\n",
       "                        <td id=\"T_7bdac274_79ca_11eb_8e22_1c1b0de819d6row9_col0\" class=\"data row9 col0\" >-0.006</td>\n",
       "                        <td id=\"T_7bdac274_79ca_11eb_8e22_1c1b0de819d6row9_col1\" class=\"data row9 col1\" >0.015</td>\n",
       "                        <td id=\"T_7bdac274_79ca_11eb_8e22_1c1b0de819d6row9_col2\" class=\"data row9 col2\" >-0.001</td>\n",
       "                        <td id=\"T_7bdac274_79ca_11eb_8e22_1c1b0de819d6row9_col3\" class=\"data row9 col3\" >-0.007</td>\n",
       "                        <td id=\"T_7bdac274_79ca_11eb_8e22_1c1b0de819d6row9_col4\" class=\"data row9 col4\" >0.011</td>\n",
       "                        <td id=\"T_7bdac274_79ca_11eb_8e22_1c1b0de819d6row9_col5\" class=\"data row9 col5\" >0.013</td>\n",
       "                        <td id=\"T_7bdac274_79ca_11eb_8e22_1c1b0de819d6row9_col6\" class=\"data row9 col6\" >0.014</td>\n",
       "                        <td id=\"T_7bdac274_79ca_11eb_8e22_1c1b0de819d6row9_col7\" class=\"data row9 col7\" >-0.010</td>\n",
       "                        <td id=\"T_7bdac274_79ca_11eb_8e22_1c1b0de819d6row9_col8\" class=\"data row9 col8\" >-0.011</td>\n",
       "                        <td id=\"T_7bdac274_79ca_11eb_8e22_1c1b0de819d6row9_col9\" class=\"data row9 col9\" >1.000</td>\n",
       "                        <td id=\"T_7bdac274_79ca_11eb_8e22_1c1b0de819d6row9_col10\" class=\"data row9 col10\" >0.012</td>\n",
       "            </tr>\n",
       "            <tr>\n",
       "                        <th id=\"T_7bdac274_79ca_11eb_8e22_1c1b0de819d6level0_row10\" class=\"row_heading level0 row10\" >Exited</th>\n",
       "                        <td id=\"T_7bdac274_79ca_11eb_8e22_1c1b0de819d6row10_col0\" class=\"data row10 col0\" >-0.017</td>\n",
       "                        <td id=\"T_7bdac274_79ca_11eb_8e22_1c1b0de819d6row10_col1\" class=\"data row10 col1\" >-0.006</td>\n",
       "                        <td id=\"T_7bdac274_79ca_11eb_8e22_1c1b0de819d6row10_col2\" class=\"data row10 col2\" >-0.027</td>\n",
       "                        <td id=\"T_7bdac274_79ca_11eb_8e22_1c1b0de819d6row10_col3\" class=\"data row10 col3\" >0.285</td>\n",
       "                        <td id=\"T_7bdac274_79ca_11eb_8e22_1c1b0de819d6row10_col4\" class=\"data row10 col4\" >-0.013</td>\n",
       "                        <td id=\"T_7bdac274_79ca_11eb_8e22_1c1b0de819d6row10_col5\" class=\"data row10 col5\" >0.119</td>\n",
       "                        <td id=\"T_7bdac274_79ca_11eb_8e22_1c1b0de819d6row10_col6\" class=\"data row10 col6\" >-0.048</td>\n",
       "                        <td id=\"T_7bdac274_79ca_11eb_8e22_1c1b0de819d6row10_col7\" class=\"data row10 col7\" >-0.007</td>\n",
       "                        <td id=\"T_7bdac274_79ca_11eb_8e22_1c1b0de819d6row10_col8\" class=\"data row10 col8\" >-0.156</td>\n",
       "                        <td id=\"T_7bdac274_79ca_11eb_8e22_1c1b0de819d6row10_col9\" class=\"data row10 col9\" >0.012</td>\n",
       "                        <td id=\"T_7bdac274_79ca_11eb_8e22_1c1b0de819d6row10_col10\" class=\"data row10 col10\" >1.000</td>\n",
       "            </tr>\n",
       "    </tbody></table>"
      ],
      "text/plain": [
       "<pandas.io.formats.style.Styler at 0x21b9a64d1c0>"
      ]
     },
     "execution_count": 8,
     "metadata": {},
     "output_type": "execute_result"
    }
   ],
   "source": [
    "#Построим матрицу корреляций\n",
    "corr = data.corr()\n",
    "corr.style.background_gradient(cmap='cool').set_precision(3)"
   ]
  },
  {
   "cell_type": "markdown",
   "metadata": {},
   "source": [
    "<div class=\"alert alert-success\">\n",
    "<b>Комментарий ревьюера:</b>\n",
    "\n",
    "Классная тепловая карта 👍\n",
    "    \n",
    "В том числе мы можем использовать метод `heatmap` из библиотеки `seaborn`. \n",
    "    \n",
    "</div>"
   ]
  },
  {
   "cell_type": "markdown",
   "metadata": {},
   "source": [
    "Мы видм, что у данных нет высокой корреляции друг с другом."
   ]
  },
  {
   "cell_type": "code",
   "execution_count": 9,
   "metadata": {},
   "outputs": [],
   "source": [
    "#Преобразуем категориальные признаки в численные\n",
    "data_ohe = pd.get_dummies(data_drop, drop_first=True)\n"
   ]
  },
  {
   "cell_type": "markdown",
   "metadata": {},
   "source": [
    "<div class=\"alert alert-success\">\n",
    "<b>Комментарий ревьюера:</b>\n",
    "\n",
    "Лучше всего явным образом указывать категориальные переменные в методе `get_dummies`, чтобы случайным образом не создать дополнительные не нужные переменные.    \n",
    "</div>"
   ]
  },
  {
   "cell_type": "code",
   "execution_count": 10,
   "metadata": {
    "scrolled": true
   },
   "outputs": [
    {
     "data": {
      "text/html": [
       "<div>\n",
       "<style scoped>\n",
       "    .dataframe tbody tr th:only-of-type {\n",
       "        vertical-align: middle;\n",
       "    }\n",
       "\n",
       "    .dataframe tbody tr th {\n",
       "        vertical-align: top;\n",
       "    }\n",
       "\n",
       "    .dataframe thead th {\n",
       "        text-align: right;\n",
       "    }\n",
       "</style>\n",
       "<table border=\"1\" class=\"dataframe\">\n",
       "  <thead>\n",
       "    <tr style=\"text-align: right;\">\n",
       "      <th></th>\n",
       "      <th>CreditScore</th>\n",
       "      <th>Age</th>\n",
       "      <th>Tenure</th>\n",
       "      <th>Balance</th>\n",
       "      <th>NumOfProducts</th>\n",
       "      <th>HasCrCard</th>\n",
       "      <th>IsActiveMember</th>\n",
       "      <th>EstimatedSalary</th>\n",
       "      <th>Exited</th>\n",
       "      <th>Geography_Germany</th>\n",
       "      <th>Geography_Spain</th>\n",
       "      <th>Gender_Male</th>\n",
       "    </tr>\n",
       "  </thead>\n",
       "  <tbody>\n",
       "    <tr>\n",
       "      <th>0</th>\n",
       "      <td>619</td>\n",
       "      <td>42</td>\n",
       "      <td>2</td>\n",
       "      <td>0</td>\n",
       "      <td>1</td>\n",
       "      <td>1</td>\n",
       "      <td>1</td>\n",
       "      <td>101348</td>\n",
       "      <td>1</td>\n",
       "      <td>0</td>\n",
       "      <td>0</td>\n",
       "      <td>0</td>\n",
       "    </tr>\n",
       "    <tr>\n",
       "      <th>1</th>\n",
       "      <td>608</td>\n",
       "      <td>41</td>\n",
       "      <td>1</td>\n",
       "      <td>83807</td>\n",
       "      <td>1</td>\n",
       "      <td>0</td>\n",
       "      <td>1</td>\n",
       "      <td>112542</td>\n",
       "      <td>0</td>\n",
       "      <td>0</td>\n",
       "      <td>1</td>\n",
       "      <td>0</td>\n",
       "    </tr>\n",
       "    <tr>\n",
       "      <th>2</th>\n",
       "      <td>502</td>\n",
       "      <td>42</td>\n",
       "      <td>8</td>\n",
       "      <td>159660</td>\n",
       "      <td>3</td>\n",
       "      <td>1</td>\n",
       "      <td>0</td>\n",
       "      <td>113931</td>\n",
       "      <td>1</td>\n",
       "      <td>0</td>\n",
       "      <td>0</td>\n",
       "      <td>0</td>\n",
       "    </tr>\n",
       "    <tr>\n",
       "      <th>3</th>\n",
       "      <td>699</td>\n",
       "      <td>39</td>\n",
       "      <td>1</td>\n",
       "      <td>0</td>\n",
       "      <td>2</td>\n",
       "      <td>0</td>\n",
       "      <td>0</td>\n",
       "      <td>93826</td>\n",
       "      <td>0</td>\n",
       "      <td>0</td>\n",
       "      <td>0</td>\n",
       "      <td>0</td>\n",
       "    </tr>\n",
       "    <tr>\n",
       "      <th>4</th>\n",
       "      <td>850</td>\n",
       "      <td>43</td>\n",
       "      <td>2</td>\n",
       "      <td>125510</td>\n",
       "      <td>1</td>\n",
       "      <td>1</td>\n",
       "      <td>1</td>\n",
       "      <td>79084</td>\n",
       "      <td>0</td>\n",
       "      <td>0</td>\n",
       "      <td>1</td>\n",
       "      <td>0</td>\n",
       "    </tr>\n",
       "  </tbody>\n",
       "</table>\n",
       "</div>"
      ],
      "text/plain": [
       "   CreditScore  Age  Tenure  Balance  NumOfProducts  HasCrCard  \\\n",
       "0          619   42       2        0              1          1   \n",
       "1          608   41       1    83807              1          0   \n",
       "2          502   42       8   159660              3          1   \n",
       "3          699   39       1        0              2          0   \n",
       "4          850   43       2   125510              1          1   \n",
       "\n",
       "   IsActiveMember  EstimatedSalary  Exited  Geography_Germany  \\\n",
       "0               1           101348       1                  0   \n",
       "1               1           112542       0                  0   \n",
       "2               0           113931       1                  0   \n",
       "3               0            93826       0                  0   \n",
       "4               1            79084       0                  0   \n",
       "\n",
       "   Geography_Spain  Gender_Male  \n",
       "0                0            0  \n",
       "1                1            0  \n",
       "2                0            0  \n",
       "3                0            0  \n",
       "4                1            0  "
      ]
     },
     "execution_count": 10,
     "metadata": {},
     "output_type": "execute_result"
    }
   ],
   "source": [
    "data_ohe.head()"
   ]
  },
  {
   "cell_type": "code",
   "execution_count": 11,
   "metadata": {},
   "outputs": [],
   "source": [
    "#Разобьём наш датафрейм на тренировочную (60%) и промежуточную (40%) валидационную выборку \n",
    "#Разобьём промежуточную (40%) валидационную выборку на валидационную итестовую выюорки соответственно\n",
    "data_train, data_valid_inter = train_test_split(data_ohe, test_size=0.4, random_state=12345)\n",
    "data_valid, data_test = train_test_split(data_valid_inter, test_size=0.5, random_state=12345)"
   ]
  },
  {
   "cell_type": "code",
   "execution_count": 12,
   "metadata": {},
   "outputs": [
    {
     "name": "stdout",
     "output_type": "stream",
     "text": [
      "(6000, 12)\n",
      "(2000, 12)\n",
      "(2000, 12)\n"
     ]
    }
   ],
   "source": [
    "#Проверим, что всё разбилось правильно\n",
    "print(data_train.shape)\n",
    "print(data_valid.shape)\n",
    "print(data_test.shape)"
   ]
  },
  {
   "cell_type": "markdown",
   "metadata": {},
   "source": [
    "<div class=\"alert alert-success\">\n",
    "<b>Комментарий ревьюера:</b>\n",
    "    \n",
    "В целом выборка разделена верно.\n",
    "    \n",
    "Я бы рекомендовал бы ещё использовать атрибут `stratify` для целевой переменной. Он дает нам безопасность сохранения 20% значений равного нужного нам количества классов в целевой переменной.\n",
    "    \n",
    "В том числе бывает полезен атрибут `shuffle` , он перемешивает наши выборки случайным образом, так мы подстарховываем себя от случаных закономерностей в данных.\n",
    "    \n",
    "</div>"
   ]
  },
  {
   "cell_type": "code",
   "execution_count": 13,
   "metadata": {},
   "outputs": [],
   "source": [
    "features_train = data_train.drop(['Exited'], axis=1)\n",
    "target_train = data_train['Exited']\n",
    "features_valid = data_valid.drop(['Exited'], axis=1)\n",
    "target_valid = data_valid['Exited']\n",
    "features_test = data_test.drop(['Exited'], axis=1)\n",
    "target_test = data_test['Exited']"
   ]
  },
  {
   "cell_type": "code",
   "execution_count": 14,
   "metadata": {},
   "outputs": [
    {
     "data": {
      "text/html": [
       "<div>\n",
       "<style scoped>\n",
       "    .dataframe tbody tr th:only-of-type {\n",
       "        vertical-align: middle;\n",
       "    }\n",
       "\n",
       "    .dataframe tbody tr th {\n",
       "        vertical-align: top;\n",
       "    }\n",
       "\n",
       "    .dataframe thead th {\n",
       "        text-align: right;\n",
       "    }\n",
       "</style>\n",
       "<table border=\"1\" class=\"dataframe\">\n",
       "  <thead>\n",
       "    <tr style=\"text-align: right;\">\n",
       "      <th></th>\n",
       "      <th>CreditScore</th>\n",
       "      <th>Age</th>\n",
       "      <th>Tenure</th>\n",
       "      <th>Balance</th>\n",
       "      <th>NumOfProducts</th>\n",
       "      <th>HasCrCard</th>\n",
       "      <th>IsActiveMember</th>\n",
       "      <th>EstimatedSalary</th>\n",
       "      <th>Geography_Germany</th>\n",
       "      <th>Geography_Spain</th>\n",
       "      <th>Gender_Male</th>\n",
       "    </tr>\n",
       "  </thead>\n",
       "  <tbody>\n",
       "    <tr>\n",
       "      <th>7479</th>\n",
       "      <td>-0.886751</td>\n",
       "      <td>-0.373192</td>\n",
       "      <td>1.104696</td>\n",
       "      <td>1.232268</td>\n",
       "      <td>1</td>\n",
       "      <td>1</td>\n",
       "      <td>0</td>\n",
       "      <td>-0.187698</td>\n",
       "      <td>0</td>\n",
       "      <td>1</td>\n",
       "      <td>1</td>\n",
       "    </tr>\n",
       "    <tr>\n",
       "      <th>3411</th>\n",
       "      <td>0.608663</td>\n",
       "      <td>-0.183385</td>\n",
       "      <td>1.104696</td>\n",
       "      <td>0.600556</td>\n",
       "      <td>1</td>\n",
       "      <td>0</td>\n",
       "      <td>0</td>\n",
       "      <td>-0.333940</td>\n",
       "      <td>0</td>\n",
       "      <td>0</td>\n",
       "      <td>0</td>\n",
       "    </tr>\n",
       "    <tr>\n",
       "      <th>6027</th>\n",
       "      <td>2.052152</td>\n",
       "      <td>0.480939</td>\n",
       "      <td>-0.503694</td>\n",
       "      <td>1.027096</td>\n",
       "      <td>2</td>\n",
       "      <td>0</td>\n",
       "      <td>1</td>\n",
       "      <td>1.503095</td>\n",
       "      <td>1</td>\n",
       "      <td>0</td>\n",
       "      <td>1</td>\n",
       "    </tr>\n",
       "    <tr>\n",
       "      <th>1247</th>\n",
       "      <td>-1.457915</td>\n",
       "      <td>-1.417129</td>\n",
       "      <td>0.461340</td>\n",
       "      <td>-1.233162</td>\n",
       "      <td>2</td>\n",
       "      <td>1</td>\n",
       "      <td>0</td>\n",
       "      <td>-1.071058</td>\n",
       "      <td>0</td>\n",
       "      <td>0</td>\n",
       "      <td>1</td>\n",
       "    </tr>\n",
       "    <tr>\n",
       "      <th>3716</th>\n",
       "      <td>0.130961</td>\n",
       "      <td>-1.132419</td>\n",
       "      <td>-0.825373</td>\n",
       "      <td>1.140469</td>\n",
       "      <td>1</td>\n",
       "      <td>0</td>\n",
       "      <td>0</td>\n",
       "      <td>1.524276</td>\n",
       "      <td>1</td>\n",
       "      <td>0</td>\n",
       "      <td>0</td>\n",
       "    </tr>\n",
       "  </tbody>\n",
       "</table>\n",
       "</div>"
      ],
      "text/plain": [
       "      CreditScore       Age    Tenure   Balance  NumOfProducts  HasCrCard  \\\n",
       "7479    -0.886751 -0.373192  1.104696  1.232268              1          1   \n",
       "3411     0.608663 -0.183385  1.104696  0.600556              1          0   \n",
       "6027     2.052152  0.480939 -0.503694  1.027096              2          0   \n",
       "1247    -1.457915 -1.417129  0.461340 -1.233162              2          1   \n",
       "3716     0.130961 -1.132419 -0.825373  1.140469              1          0   \n",
       "\n",
       "      IsActiveMember  EstimatedSalary  Geography_Germany  Geography_Spain  \\\n",
       "7479               0        -0.187698                  0                1   \n",
       "3411               0        -0.333940                  0                0   \n",
       "6027               1         1.503095                  1                0   \n",
       "1247               0        -1.071058                  0                0   \n",
       "3716               0         1.524276                  1                0   \n",
       "\n",
       "      Gender_Male  \n",
       "7479            1  \n",
       "3411            0  \n",
       "6027            1  \n",
       "1247            1  \n",
       "3716            0  "
      ]
     },
     "metadata": {},
     "output_type": "display_data"
    }
   ],
   "source": [
    "#Масштабируем численные признаки методом стандартизации\n",
    "numeric = ['CreditScore', 'Age', 'Balance', 'Tenure', 'EstimatedSalary']\n",
    "scaler = StandardScaler()\n",
    "scaler.fit(features_train[numeric])\n",
    "features_train[numeric] = scaler.transform(features_train[numeric])\n",
    "features_valid[numeric] = scaler.transform(features_valid[numeric])\n",
    "features_test[numeric] = scaler.transform(features_test[numeric])\n",
    "display(features_train.head())"
   ]
  },
  {
   "cell_type": "markdown",
   "metadata": {},
   "source": [
    "<div class=\"alert alert-warning\">\n",
    "<b>Комментарий ревьюера:</b>\n",
    "\n",
    "Рекомендую не применять метод `print()` для вывода таблиц. Лучше импортировать в\n",
    "начале проекта метод `display` из библиотеки `IPython.display` и\n",
    "применять его:\n",
    "\n",
    "---\n",
    "    \n",
    "`from IPython.display import display`\n",
    "\n",
    "`display(df)`\n",
    "\n",
    "    \n",
    "</div>"
   ]
  },
  {
   "cell_type": "markdown",
   "metadata": {},
   "source": [
    "<div class=\"alert alert-success\">\n",
    "<b>Комментарий ревьюера:</b>\n",
    "\n",
    "Хорошо, что масштабируем наши данные. Так модель в большинстве случаев работает лучше, но это не всегда и нужно проверять.\n",
    "    \n",
    "---\n",
    "    \n",
    "В том числе я бы рекомендовал построить графики распределения наших данных, чтобы поверхностно понимать с чем мы имеем дело перед нормализацией и после соответственно.\n",
    "\n",
    "И посмотреть на матрицу корреляции, ведь у нас могут быть признаки, которые сильно коррелируют с таргет перменной, а это может отрицательно сказаться на нашей моделе. Хотел бы отметить, что так бывает не постоянно и эти способы стоит тестировать.\n",
    "    \n",
    "</div>"
   ]
  },
  {
   "cell_type": "markdown",
   "metadata": {},
   "source": [
    "# 2. Исследование задачи"
   ]
  },
  {
   "cell_type": "markdown",
   "metadata": {},
   "source": [
    "###### 2.1. Проверка баланса классов"
   ]
  },
  {
   "cell_type": "code",
   "execution_count": 15,
   "metadata": {},
   "outputs": [
    {
     "name": "stdout",
     "output_type": "stream",
     "text": [
      "0    0.7963\n",
      "1    0.2037\n",
      "Name: Exited, dtype: float64\n"
     ]
    },
    {
     "data": {
      "text/plain": [
       "<matplotlib.axes._subplots.AxesSubplot at 0x21bc015ffd0>"
      ]
     },
     "execution_count": 15,
     "metadata": {},
     "output_type": "execute_result"
    },
    {
     "data": {
      "image/png": "[encoded data removed]",
      "text/plain": [
       "<Figure size 432x288 with 1 Axes>"
      ]
     },
     "metadata": {
      "needs_background": "light"
     },
     "output_type": "display_data"
    }
   ],
   "source": [
    "#Посмотрим на соотношение меток классов в столбце Exited\n",
    "class_frequency = data['Exited'].value_counts(normalize=bool)\n",
    "print(class_frequency)\n",
    "class_frequency.plot(kind='bar')"
   ]
  },
  {
   "cell_type": "markdown",
   "metadata": {},
   "source": [
    "<div class=\"alert alert-success\">\n",
    "<b>Комментарий ревьюера:</b>\n",
    "\n",
    "Дисбаланс на лицо.\n",
    "    \n",
    "</div>"
   ]
  },
  {
   "cell_type": "markdown",
   "metadata": {},
   "source": [
    "Мы видим, что нулей 80%, а единиц 20%, соответсвтенно наблюдается дисбаланс классов"
   ]
  },
  {
   "cell_type": "markdown",
   "metadata": {},
   "source": [
    "###### 2.2. Исследуем первую модель: Случайный лес"
   ]
  },
  {
   "cell_type": "code",
   "execution_count": 16,
   "metadata": {},
   "outputs": [
    {
     "name": "stdout",
     "output_type": "stream",
     "text": [
      "f1-мера наилучшей модели на валидационной выборке: 0.5818181818181819\n",
      "Параметры лучшей модели: RandomForestClassifier(max_depth=9, n_estimators=8, random_state=12345)\n",
      "Wall time: 1min 19s\n"
     ]
    }
   ],
   "source": [
    "%%time\n",
    "best_model = None\n",
    "best_result = 0\n",
    "for est in range(1, 60):\n",
    "    for depth in range(1, 10):\n",
    "        model = RandomForestClassifier(random_state=12345, n_estimators=est, max_depth=depth)\n",
    "        model.fit(features_train, target_train)\n",
    "        predicted_valid = model.predict(features_valid)\n",
    "        result = f1_score(target_valid, predicted_valid) \n",
    "        if result > best_result:\n",
    "            best_model = model\n",
    "            best_result = result\n",
    "print(\"f1-мера наилучшей модели на валидационной выборке:\", best_result)\n",
    "print('Параметры лучшей модели:', best_model)"
   ]
  },
  {
   "cell_type": "markdown",
   "metadata": {},
   "source": [
    "<div class=\"alert alert-success\">\n",
    "<b>Комментарий ревьюера:</b>\n",
    "\n",
    "Хорошие показатели для первого расчета 👍 \n",
    "    \n",
    "Здорово, что используешь много несколько гиперпараметров. \n",
    "</div>"
   ]
  },
  {
   "cell_type": "markdown",
   "metadata": {},
   "source": [
    "###### 2.3. Исследуем первую модель: Решающее дерево"
   ]
  },
  {
   "cell_type": "code",
   "execution_count": 17,
   "metadata": {},
   "outputs": [
    {
     "name": "stdout",
     "output_type": "stream",
     "text": [
      "f1-мера наилучшей модели на валидационной выборке: 0.5786516853932585\n",
      "Параметры лучшей модели: DecisionTreeClassifier(max_depth=9, random_state=12345)\n",
      "Wall time: 451 ms\n"
     ]
    }
   ],
   "source": [
    "%%time\n",
    "best_model = None\n",
    "best_result = 0\n",
    "for depth in range(1, 20):\n",
    "    model = DecisionTreeClassifier(random_state=12345, max_depth=depth) \n",
    "    model.fit(features_train, target_train) \n",
    "    predicted_valid = model.predict(features_valid)\n",
    "    result = f1_score(target_valid, predicted_valid) \n",
    "    if result > best_result:\n",
    "        best_model = model\n",
    "        best_result = result\n",
    "print(\"f1-мера наилучшей модели на валидационной выборке:\", best_result)\n",
    "print('Параметры лучшей модели:', best_model)"
   ]
  },
  {
   "cell_type": "markdown",
   "metadata": {},
   "source": [
    "###### 2.4. Исследуем третью модель: Логистическая регрессия"
   ]
  },
  {
   "cell_type": "code",
   "execution_count": 18,
   "metadata": {},
   "outputs": [
    {
     "name": "stdout",
     "output_type": "stream",
     "text": [
      "f1-мера модели на валидационной выборке: 0.33389544688026984\n"
     ]
    }
   ],
   "source": [
    "model = LogisticRegression(random_state=12345) \n",
    "model.fit(features_train, target_train)\n",
    "predicted_valid = model.predict(features_valid)\n",
    "result = f1_score(target_valid, predicted_valid)\n",
    "print(\"f1-мера модели на валидационной выборке:\", result)"
   ]
  },
  {
   "cell_type": "markdown",
   "metadata": {},
   "source": [
    "<div class=\"alert alert-success\">\n",
    "<b>Комментарий ревьюера:</b>\n",
    "\n",
    "В том числе можно было попробвать и сравнить параметр `C` у логистической регрессии. \n",
    "    \n",
    "---\n",
    "    \n",
    "Кстати для автоматического перебора гиперпараметров мы можем использовать готовый метод `GreadSearchCV` в библиотеке `sklearn`. \n",
    "    \n",
    "</div>"
   ]
  },
  {
   "cell_type": "markdown",
   "metadata": {},
   "source": [
    "###### 2.5. Проверка наилучшей модели на тестовой выборке"
   ]
  },
  {
   "cell_type": "code",
   "execution_count": 19,
   "metadata": {},
   "outputs": [
    {
     "name": "stdout",
     "output_type": "stream",
     "text": [
      "0.5062111801242236\n"
     ]
    }
   ],
   "source": [
    "model = RandomForestClassifier(random_state=12345, n_estimators=8, max_depth=9) \n",
    "model.fit(features_train, target_train) \n",
    "predicted_test = model.predict(features_test)\n",
    "result = f1_score(target_test, predicted_test) \n",
    "print(result)"
   ]
  },
  {
   "cell_type": "markdown",
   "metadata": {},
   "source": [
    "#####  2.6. Вывод"
   ]
  },
  {
   "cell_type": "markdown",
   "metadata": {},
   "source": [
    "Лучше всего себя показала модель случайного леса. F1-мера этой модели: 0.5062, при максимальной глубине - 9, n_estimators=8. Полученное значение F1-меры не удовлетворяет условию проекта. Так как в п 2.1 мы выяснили, что у нас присутствует дисбаланс классов, то необходимо минимизировать вляение этого дисбаланса на получаемый результат."
   ]
  },
  {
   "cell_type": "markdown",
   "metadata": {},
   "source": [
    "<div class=\"alert alert-success\">\n",
    "<b>Комментарий ревьюера:</b>\n",
    "\n",
    "Можно кстати использовать бОльшее количество деревьев 100–150, срезать мы всегда успеем.     \n",
    "</div>"
   ]
  },
  {
   "cell_type": "markdown",
   "metadata": {},
   "source": [
    "# 3. Борьба с дисбалансом"
   ]
  },
  {
   "cell_type": "markdown",
   "metadata": {},
   "source": [
    "##### 3.1. Балансировка веса классов"
   ]
  },
  {
   "cell_type": "code",
   "execution_count": 20,
   "metadata": {},
   "outputs": [
    {
     "name": "stdout",
     "output_type": "stream",
     "text": [
      "f1-мера наилучшей модели на валидационной выборке: 0.6261261261261261\n",
      "Параметры лучшей модели: RandomForestClassifier(class_weight='balanced', max_depth=9, n_estimators=31,\n",
      "                       random_state=12345)\n",
      "Wall time: 1min 9s\n"
     ]
    }
   ],
   "source": [
    "%%time\n",
    "#Случайный лес\n",
    "best_model = None\n",
    "best_result = 0\n",
    "for est in range(1, 60):\n",
    "    for depth in range(1, 10):\n",
    "        model = RandomForestClassifier(random_state=12345, n_estimators=est, max_depth=depth, class_weight='balanced')\n",
    "        model.fit(features_train, target_train)\n",
    "        predicted_valid = model.predict(features_valid)\n",
    "        result = f1_score(target_valid, predicted_valid) \n",
    "        if result > best_result:\n",
    "            best_model = model\n",
    "            best_result = result\n",
    "print(\"f1-мера наилучшей модели на валидационной выборке:\", best_result)\n",
    "print('Параметры лучшей модели:', best_model)"
   ]
  },
  {
   "cell_type": "code",
   "execution_count": 21,
   "metadata": {},
   "outputs": [
    {
     "name": "stdout",
     "output_type": "stream",
     "text": [
      "f1-мера модели на валидационной выборке: 0.4888888888888888\n",
      "Wall time: 28.9 ms\n"
     ]
    }
   ],
   "source": [
    "%%time\n",
    "#Логистическая регрессия\n",
    "model = LogisticRegression(random_state=12345, class_weight='balanced') \n",
    "model.fit(features_train, target_train)\n",
    "predicted_valid = model.predict(features_valid)\n",
    "result = f1_score(target_valid, predicted_valid)\n",
    "print(\"f1-мера модели на валидационной выборке:\", result)"
   ]
  },
  {
   "cell_type": "code",
   "execution_count": 22,
   "metadata": {},
   "outputs": [
    {
     "name": "stdout",
     "output_type": "stream",
     "text": [
      "f1-мера наилучшей модели на валидационной выборке: 0.5786516853932585\n",
      "Параметры лучшей модели: DecisionTreeClassifier(max_depth=9, random_state=12345)\n",
      "Wall time: 422 ms\n"
     ]
    }
   ],
   "source": [
    "%%time\n",
    "#Решающее дерево\n",
    "best_model = None\n",
    "best_result = 0\n",
    "for depth in range(1, 20):\n",
    "    model = DecisionTreeClassifier(random_state=12345, max_depth=depth) \n",
    "    model.fit(features_train, target_train) \n",
    "    predicted_valid = model.predict(features_valid)\n",
    "    result = f1_score(target_valid, predicted_valid) \n",
    "    if result > best_result:\n",
    "        best_model = model\n",
    "        best_result = result\n",
    "print(\"f1-мера наилучшей модели на валидационной выборке:\", best_result)\n",
    "print('Параметры лучшей модели:', best_model)"
   ]
  },
  {
   "cell_type": "markdown",
   "metadata": {},
   "source": [
    "##### Вывод"
   ]
  },
  {
   "cell_type": "markdown",
   "metadata": {},
   "source": [
    "f1-мера наилучшей модели (случайный лес): 0.630225080385852\n",
    "Параметры лучшей модели: RandomForestClassifier(bootstrap=True, class_weight='balanced',\n",
    "                       criterion='gini', max_depth=7, max_features='auto',\n",
    "                       max_leaf_nodes=None, min_impurity_decrease=0.0,\n",
    "                       min_impurity_split=None, min_samples_leaf=1,\n",
    "                       min_samples_split=2, min_weight_fraction_leaf=0.0,\n",
    "                       n_estimators=55, n_jobs=None, oob_score=False,\n",
    "                       random_state=12345, verbose=0, warm_start=False)"
   ]
  },
  {
   "cell_type": "markdown",
   "metadata": {},
   "source": [
    "### Upsampling"
   ]
  },
  {
   "cell_type": "code",
   "execution_count": 23,
   "metadata": {},
   "outputs": [
    {
     "name": "stdout",
     "output_type": "stream",
     "text": [
      "f1-мера наилучшей модели на валидационной выборке: 0.5368821292775665\n",
      "Параметры лучшей модели: RandomForestClassifier(max_depth=9, n_estimators=36, random_state=12345)\n",
      "Wall time: 2min 6s\n"
     ]
    }
   ],
   "source": [
    "%%time\n",
    "#Применим функция для увеличения выборки\n",
    "def upsample(features, target, repeat):\n",
    "    features_zeros = features[target == 0]\n",
    "    features_ones = features[target == 1]\n",
    "    target_zeros = target[target == 0]\n",
    "    target_ones = target[target == 1]\n",
    "\n",
    "    features_upsampled = pd.concat([features_zeros] + [features_ones] * repeat)\n",
    "    target_upsampled = pd.concat([target_zeros] + [target_ones] * repeat)\n",
    "    \n",
    "    features_upsampled, target_upsampled = shuffle(\n",
    "        features_upsampled, target_upsampled, random_state=12345)\n",
    "    \n",
    "    return features_upsampled, target_upsampled\n",
    "\n",
    "features_upsampled, target_upsampled = upsample(features_train, target_train, 10)\n",
    "best_model = None\n",
    "best_result = 0\n",
    "for est in range(1, 60):\n",
    "    for depth in range(1, 10):\n",
    "        model = RandomForestClassifier(random_state=12345, n_estimators=est, max_depth=depth)\n",
    "        model.fit(features_upsampled, target_upsampled)\n",
    "        predicted_valid = model.predict(features_valid)\n",
    "        result = f1_score(target_valid, predicted_valid) \n",
    "        if result > best_result:\n",
    "            best_model = model\n",
    "            best_result = result\n",
    "print(\"f1-мера наилучшей модели на валидационной выборке:\", best_result)\n",
    "print('Параметры лучшей модели:', best_model)\n"
   ]
  },
  {
   "cell_type": "code",
   "execution_count": 24,
   "metadata": {},
   "outputs": [
    {
     "name": "stdout",
     "output_type": "stream",
     "text": [
      "f1-мера модели на валидационной выборке: 0.4888888888888888\n"
     ]
    }
   ],
   "source": [
    "#Логистическая регрессия\n",
    "model = LogisticRegression(random_state=12345, class_weight='balanced') \n",
    "model.fit(features_upsampled, target_upsampled)\n",
    "predicted_valid = model.predict(features_valid)\n",
    "result = f1_score(target_valid, predicted_valid)\n",
    "print(\"f1-мера модели на валидационной выборке:\", result)"
   ]
  },
  {
   "cell_type": "code",
   "execution_count": 25,
   "metadata": {},
   "outputs": [
    {
     "name": "stdout",
     "output_type": "stream",
     "text": [
      "f1-мера наилучшей модели на валидационной выборке: 0.5210608424336973\n",
      "Параметры лучшей модели: DecisionTreeClassifier(max_depth=7, random_state=12345)\n",
      "Wall time: 780 ms\n"
     ]
    }
   ],
   "source": [
    "%%time\n",
    "#Решающее дерево\n",
    "best_model = None\n",
    "best_result = 0\n",
    "for depth in range(1, 20):\n",
    "    model = DecisionTreeClassifier(random_state=12345, max_depth=depth) \n",
    "    model.fit(features_upsampled, target_upsampled) \n",
    "    predicted_valid = model.predict(features_valid)\n",
    "    result = f1_score(target_valid, predicted_valid) \n",
    "    if result > best_result:\n",
    "        best_model = model\n",
    "        best_result = result\n",
    "print(\"f1-мера наилучшей модели на валидационной выборке:\", best_result)\n",
    "print('Параметры лучшей модели:', best_model)"
   ]
  },
  {
   "cell_type": "markdown",
   "metadata": {},
   "source": [
    "##### Вывод"
   ]
  },
  {
   "cell_type": "markdown",
   "metadata": {},
   "source": [
    "f1-мера наилучшей модели (случайный лес): 0.5368821292775665 <br>\n",
    "Параметры лучшей модели: RandomForestClassifier(bootstrap=True, class_weight=None, criterion='gini',\n",
    "                       max_depth=9, max_features='auto', max_leaf_nodes=None,\n",
    "                       min_impurity_decrease=0.0, min_impurity_split=None,\n",
    "                       min_samples_leaf=1, min_samples_split=2,\n",
    "                       min_weight_fraction_leaf=0.0, n_estimators=36,\n",
    "                       n_jobs=None, oob_score=False, random_state=12345,\n",
    "                       verbose=0, warm_start=False)"
   ]
  },
  {
   "cell_type": "markdown",
   "metadata": {},
   "source": [
    "### Downsempling"
   ]
  },
  {
   "cell_type": "code",
   "execution_count": 26,
   "metadata": {},
   "outputs": [
    {
     "name": "stdout",
     "output_type": "stream",
     "text": [
      "f1-мера наилучшей модели на валидационной выборке: 0.6274007682458387\n",
      "Параметры лучшей модели: RandomForestClassifier(max_depth=9, n_estimators=54, random_state=12345)\n",
      "Wall time: 50.2 s\n"
     ]
    }
   ],
   "source": [
    "%%time\n",
    "def downsample(features, target, fraction):\n",
    "    features_zeros = features[target == 0]\n",
    "    features_ones = features[target == 1]\n",
    "    target_zeros = target[target == 0]\n",
    "    target_ones = target[target == 1]\n",
    "\n",
    "    features_downsampled = pd.concat(\n",
    "        [features_zeros.sample(frac=fraction, random_state=12345)] + [features_ones])\n",
    "    target_downsampled = pd.concat(\n",
    "        [target_zeros.sample(frac=fraction, random_state=12345)] + [target_ones])\n",
    "    \n",
    "    features_downsampled, target_downsampled = shuffle(\n",
    "        features_downsampled, target_downsampled, random_state=12345)\n",
    "    \n",
    "    return features_downsampled, target_downsampled\n",
    "\n",
    "features_downsampled, target_downsampled = downsample(features_train, target_train, 0.5)\n",
    "\n",
    "best_model = None\n",
    "best_result = 0\n",
    "for est in range(1, 60):\n",
    "    for depth in range(1, 10):\n",
    "        model = RandomForestClassifier(random_state=12345, n_estimators=est, max_depth=depth) # обучите модель с заданным количеством деревьев\n",
    "        model.fit(features_downsampled, target_downsampled) # обучите модель на тренировочной выборке\n",
    "        predicted_valid = model.predict(features_valid)\n",
    "        result = f1_score(target_valid, predicted_valid) # посчитайте качество модели на валидационной выборке\n",
    "        if result > best_result:\n",
    "            best_model = model\n",
    "            best_result = result\n",
    "print(\"f1-мера наилучшей модели на валидационной выборке:\", best_result)\n",
    "print('Параметры лучшей модели:', best_model)\n"
   ]
  },
  {
   "cell_type": "code",
   "execution_count": 27,
   "metadata": {},
   "outputs": [
    {
     "name": "stdout",
     "output_type": "stream",
     "text": [
      "f1-мера модели на валидационной выборке: 0.4897610921501707\n",
      "Wall time: 24.9 ms\n"
     ]
    }
   ],
   "source": [
    "%%time\n",
    "#Логистическая регрессия\n",
    "model = LogisticRegression(random_state=12345, class_weight='balanced') \n",
    "model.fit(features_downsampled, target_downsampled)\n",
    "predicted_valid = model.predict(features_valid)\n",
    "result = f1_score(target_valid, predicted_valid)\n",
    "print(\"f1-мера модели на валидационной выборке:\", result)"
   ]
  },
  {
   "cell_type": "code",
   "execution_count": 28,
   "metadata": {},
   "outputs": [
    {
     "name": "stdout",
     "output_type": "stream",
     "text": [
      "f1-мера наилучшей модели на валидационной выборке: 0.5853658536585367\n",
      "Параметры лучшей модели: DecisionTreeClassifier(max_depth=7, random_state=12345)\n",
      "Wall time: 314 ms\n"
     ]
    }
   ],
   "source": [
    "%%time\n",
    "#Решающее дерево\n",
    "best_model = None\n",
    "best_result = 0\n",
    "for depth in range(1, 20):\n",
    "    model = DecisionTreeClassifier(random_state=12345, max_depth=depth) \n",
    "    model.fit(features_downsampled, target_downsampled) \n",
    "    predicted_valid = model.predict(features_valid)\n",
    "    result = f1_score(target_valid, predicted_valid) \n",
    "    if result > best_result:\n",
    "        best_model = model\n",
    "        best_result = result\n",
    "print(\"f1-мера наилучшей модели на валидационной выборке:\", best_result)\n",
    "print('Параметры лучшей модели:', best_model)"
   ]
  },
  {
   "cell_type": "markdown",
   "metadata": {},
   "source": [
    "##### Вывод"
   ]
  },
  {
   "cell_type": "markdown",
   "metadata": {},
   "source": [
    "Наилучшая модель - модель случайного леса с балансировкой веса классов<br>\n",
    "f1-мера : 0.630225080385852<br>\n",
    "Параметры лучшей модели:<br>class_weight='balanced', <br>\n",
    "                       criterion='gini', <br>\n",
    "                       max_depth=7, <br>n_estimators=55 "
   ]
  },
  {
   "cell_type": "markdown",
   "metadata": {},
   "source": [
    "# 4. Тестирование модели"
   ]
  },
  {
   "cell_type": "code",
   "execution_count": 29,
   "metadata": {},
   "outputs": [
    {
     "name": "stdout",
     "output_type": "stream",
     "text": [
      "f1-мера наилучшей модели на тестовой выборке: 0.603734439834025\n",
      "Wall time: 270 ms\n"
     ]
    }
   ],
   "source": [
    "%%time\n",
    "#Проверяем модель случайного леса на тестовой выборке\n",
    "model = RandomForestClassifier(random_state=12345, n_estimators=55, max_depth=7, class_weight='balanced')\n",
    "model.fit(features_train, target_train)\n",
    "predicted_test = model.predict(features_test)\n",
    "result = f1_score(target_test, predicted_test)\n",
    "print(\"f1-мера наилучшей модели на тестовой выборке:\", result)"
   ]
  },
  {
   "cell_type": "code",
   "execution_count": 30,
   "metadata": {},
   "outputs": [
    {
     "data": {
      "image/png": "[encoded data removed]",
      "text/plain": [
       "<Figure size 180x180 with 1 Axes>"
      ]
     },
     "metadata": {
      "needs_background": "light"
     },
     "output_type": "display_data"
    }
   ],
   "source": [
    "#Построим матрицу ошибок\n",
    "model = RandomForestClassifier(random_state=12345, n_estimators=55, max_depth=7, class_weight='balanced')\n",
    "model.fit(features_train, target_train)\n",
    "predicted_test = model.predict(features_test)\n",
    "confmat = confusion_matrix(y_true=target_test, y_pred=predicted_test)\n",
    "fig, ax = plt.subplots(figsize= (2.5 , 2.5))\n",
    "ax.matshow (confmat, cmap=plt.cm.Blues, alpha=0.3)\n",
    "for i in range(confmat.shape[0]):\n",
    "    for j in range(confmat.shape[1]):\n",
    "        ax.text(x=j, y=i,\n",
    "            s=confmat[i, j],\n",
    "            va='center', ha='center')\n",
    "plt.xlabel('распознанная метка')\n",
    "plt.ylabel ('истинная метка')\n",
    "plt.show ()"
   ]
  },
  {
   "cell_type": "code",
   "execution_count": 31,
   "metadata": {},
   "outputs": [
    {
     "data": {
      "image/png": "[encoded data removed]",
      "text/plain": [
       "<Figure size 432x288 with 1 Axes>"
      ]
     },
     "metadata": {
      "needs_background": "light"
     },
     "output_type": "display_data"
    }
   ],
   "source": [
    "#Построим ROC-кривую и сравним её со случайной моделью\n",
    "model = RandomForestClassifier(random_state=12345, n_estimators=55, max_depth=7, class_weight='balanced')\n",
    "model.fit(features_train, target_train)\n",
    "probabilities_test = model.predict_proba(features_test)\n",
    "probabilities_one_test = probabilities_test[:, 1]\n",
    "\n",
    "fpr, tpr, thresholds = roc_curve(target_test, probabilities_one_test)\n",
    "\n",
    "plt.figure()\n",
    "plt.plot(fpr, tpr, [0, 1], [0, 1], linestyle='-')\n",
    "plt.xlim([0.0, 1.0])\n",
    "plt.ylim([0.0, 1.0])\n",
    "plt.xlabel('False Positive Rate')\n",
    "plt.ylabel('True Positive Rate')\n",
    "plt.title('ROC-кривая')\n",
    "plt.show() "
   ]
  },
  {
   "cell_type": "code",
   "execution_count": 32,
   "metadata": {},
   "outputs": [
    {
     "name": "stdout",
     "output_type": "stream",
     "text": [
      "Площадь под ROC-кривой: 0.8536032896048548\n"
     ]
    }
   ],
   "source": [
    "#Посчитаем AUC-ROC\n",
    "auc_roc = roc_auc_score(target_test, probabilities_one_test)\n",
    "print('Площадь под ROC-кривой:', auc_roc)"
   ]
  },
  {
   "cell_type": "markdown",
   "metadata": {},
   "source": [
    "##### Вывод\n"
   ]
  },
  {
   "cell_type": "markdown",
   "metadata": {},
   "source": [
    "Наилучшая модель - модель случайного леса с балансировкой веса классов<br>\n",
    "f1-мера наилучшей модели на тестовой выборке: 0.6107030430220357 <br>\n",
    "Мы получили площадь под ROC-кривой: 0.8505901170939825\n"
   ]
  }
 ],
 "metadata": {
  "kernelspec": {
   "display_name": "Python 3",
   "language": "python",
   "name": "python3"
  },
  "language_info": {
   "codemirror_mode": {
    "name": "ipython",
    "version": 3
   },
   "file_extension": ".py",
   "mimetype": "text/x-python",
   "name": "python",
   "nbconvert_exporter": "python",
   "pygments_lexer": "ipython3",
   "version": "3.8.3"
  },
  "toc": {
   "base_numbering": 1,
   "nav_menu": {},
   "number_sections": true,
   "sideBar": true,
   "skip_h1_title": true,
   "title_cell": "Table of Contents",
   "title_sidebar": "Contents",
   "toc_cell": false,
   "toc_position": {},
   "toc_section_display": true,
   "toc_window_display": false
  }
 },
 "nbformat": 4,
 "nbformat_minor": 2
}
